{
 "cells": [
  {
   "cell_type": "code",
   "execution_count": 21,
   "id": "aeefce5a",
   "metadata": {},
   "outputs": [],
   "source": [
    "# Imports basics\n",
    "import numpy as np\n",
    "import h5py\n",
    "import json\n",
    "import setGPU\n",
    "import sklearn\n",
    "import corner\n",
    "import os\n",
    "import scipy\n",
    "# Imports neural net tools\n",
    "import itertools\n",
    "import torch\n",
    "import torch.nn as nn\n",
    "from torch.autograd.variable import *\n",
    "import torch.optim as optim\n",
    "from fast_soft_sort.pytorch_ops import soft_rank\n",
    "import matplotlib.pyplot as plt\n",
    "import torch.nn.functional as F"
   ]
  },
  {
   "cell_type": "code",
   "execution_count": 22,
   "id": "dbf55b46",
   "metadata": {},
   "outputs": [
    {
     "name": "stdout",
     "output_type": "stream",
     "text": [
      "Extracting\n",
      "(3074667, 207)\n"
     ]
    }
   ],
   "source": [
    "# Opens files and reads data\n",
    "\n",
    "print(\"Extracting\")\n",
    "n_encoded_nodes = 2\n",
    "weightrepr = 1\n",
    "weightcov = 10 #(most useful)\n",
    "weightstd = 1\n",
    "weightCorr1 = 0 #(most useful in barlow)\n",
    "weightCorr2 = 0 #(not really useful but could explore)\n",
    "\n",
    "loss_text=\"%iD encoder, $\\lambda_{repr}$=%i, $\\lambda_{cov}$=%i, $\\lambda_{std}$=%i, $\\lambda_{corr1}$=%i\"%(n_encoded_nodes, weightrepr, weightcov, weightstd,weightCorr1 )\n",
    "\n",
    "label=f'contrastiveVICreg_{n_encoded_nodes}_dimensions_{weightrepr}Repr_{weightcov}Cov_{weightstd}Std_{weightCorr1}Corr1'\n",
    "outdir = '/uscms_data/d3/jkrupa/flat/FlatSamples/plots/'+label\n",
    "os.system(f'mkdir -p {outdir}')\n",
    "fOne = h5py.File(\"/uscms_data/d3/eamoreno/FlatSamples/data/FullQCD_FullSig_Zqq_noFill_dRlimit08_50particlesordered_genMatched50.h5\", 'r')\n",
    "totalData = fOne[\"deepDoubleQ\"][:]\n",
    "print(totalData.shape)\n"
   ]
  },
  {
   "cell_type": "code",
   "execution_count": 23,
   "id": "378cd508",
   "metadata": {},
   "outputs": [],
   "source": [
    "# Sets controllable values\n",
    "\n",
    "particlesConsidered = 50\n",
    "particlesPostCut = 50\n",
    "entriesPerParticle = 4\n",
    "eventDataLength = 6\n",
    "decayTypeColumn = -1\n",
    "datapoints = 1400000\n",
    "#datapoints = len(totalData)\n",
    "trainingDataLength = int(len(totalData)*0.8)\n",
    "validationDataLength = int(len(totalData)*0.1)\n",
    "modelName = \"IN_FlatSamples_EighthQCDEighthSig_50particles_pTsdmassfilling_dRlimit08\"\n"
   ]
  },
  {
   "cell_type": "code",
   "execution_count": 32,
   "id": "685318e8",
   "metadata": {},
   "outputs": [
    {
     "name": "stdout",
     "output_type": "stream",
     "text": [
      "Preparing Data\n",
      "[[-0.86851245 -1.9439105   0.28785893 ...  0.          0.\n",
      "   0.        ]\n",
      " [-0.3086228  -0.18002889  0.1715752  ...  0.          0.\n",
      "   1.        ]\n",
      " [ 1.3394538   1.520634    0.70136684 ... -1.          1.\n",
      "   0.        ]\n",
      " ...\n",
      " [-0.13766922  3.1266487   0.3003012  ...  0.          0.\n",
      "   0.        ]\n",
      " [-0.07586841  1.3678831   0.59404993 ...  0.          0.\n",
      "   1.        ]\n",
      " [-0.6779408   0.950141    0.46672976 ...  1.          0.\n",
      "   0.        ]]\n",
      "Selecting particlesPostCut\n"
     ]
    },
    {
     "ename": "ValueError",
     "evalue": "operands could not be broadcast together with shapes (2459733,) (307466,) ",
     "output_type": "error",
     "traceback": [
      "\u001b[0;31m---------------------------------------------------------------------------\u001b[0m",
      "\u001b[0;31mValueError\u001b[0m                                Traceback (most recent call last)",
      "Input \u001b[0;32mIn [32]\u001b[0m, in \u001b[0;36m<cell line: 72>\u001b[0;34m()\u001b[0m\n\u001b[1;32m     69\u001b[0m particleTrainingLabelBkg \u001b[38;5;241m=\u001b[39m trainingLabels[trainingLabels[:,\u001b[38;5;241m1\u001b[39m]\u001b[38;5;241m.\u001b[39mastype(\u001b[38;5;28mbool\u001b[39m)]\n\u001b[1;32m     71\u001b[0m \u001b[38;5;66;03m# Jet mass for correlation\u001b[39;00m\n\u001b[0;32m---> 72\u001b[0m jetMassTrainingDataSig \u001b[38;5;241m=\u001b[39m jetMassTrainingData[\u001b[43m(\u001b[49m\u001b[43mtrainingLabels\u001b[49m\u001b[43m[\u001b[49m\u001b[43m:\u001b[49m\u001b[43m,\u001b[49m\u001b[38;5;241;43m0\u001b[39;49m\u001b[43m]\u001b[49m\u001b[38;5;241;43m.\u001b[39;49m\u001b[43mastype\u001b[49m\u001b[43m(\u001b[49m\u001b[38;5;28;43mbool\u001b[39;49m\u001b[43m)\u001b[49m\u001b[43m)\u001b[49m\u001b[43m \u001b[49m\u001b[38;5;241;43m&\u001b[39;49m\u001b[43m \u001b[49m\u001b[43m(\u001b[49m\u001b[43mpt_cut\u001b[49m\u001b[43m)\u001b[49m]\n\u001b[1;32m     73\u001b[0m jetMassTrainingDataBkg \u001b[38;5;241m=\u001b[39m jetMassTrainingData[(trainingLabels[:,\u001b[38;5;241m1\u001b[39m]\u001b[38;5;241m.\u001b[39mastype(\u001b[38;5;28mbool\u001b[39m)) \u001b[38;5;241m&\u001b[39m (pt_cut)]\n\u001b[1;32m     74\u001b[0m jetMassValidationDataSig \u001b[38;5;241m=\u001b[39m jetMassValidationData[(validationLabels[:,\u001b[38;5;241m0\u001b[39m]\u001b[38;5;241m.\u001b[39mastype(\u001b[38;5;28mbool\u001b[39m)) \u001b[38;5;241m&\u001b[39m (pt_cut)]\n",
      "\u001b[0;31mValueError\u001b[0m: operands could not be broadcast together with shapes (2459733,) (307466,) "
     ]
    }
   ],
   "source": [
    "# Creates Training Data\n",
    "\n",
    "print(\"Preparing Data\")\n",
    "\n",
    "particleDataLength = particlesConsidered * entriesPerParticle\n",
    "\n",
    "np.random.seed(42)\n",
    "np.random.shuffle(totalData)\n",
    "\n",
    "#trainingDataLength = int(datapoints*0.8)\n",
    "#validationDataLength = int(datapoints*0.1)\n",
    "\n",
    "mask = [i>40 for i in totalData[:, eventDataLength-1]]\n",
    "totalData = totalData[mask]\n",
    "print(totalData)\n",
    "labels = totalData[:, decayTypeColumn:]\n",
    "particleData = totalData[:, eventDataLength:particleDataLength + eventDataLength]\n",
    "eventData = totalData[:, :eventDataLength]\n",
    "jetMassData = totalData[:, eventDataLength-1] #last entry in eventData (zero indexing)\n",
    "\n",
    "\n",
    "######### Training Data ###############\n",
    "eventTrainingData = np.array(eventData[0:trainingDataLength],dtype=np.float16)\n",
    "jetMassTrainingData = np.array(jetMassData[0:trainingDataLength],dtype=np.float16)\n",
    "particleTrainingData = np.transpose(\n",
    "    particleData[0:trainingDataLength, ].reshape(trainingDataLength, \n",
    "                                                 entriesPerParticle, \n",
    "                                                 particlesConsidered),\n",
    "                                                 axes=(0, 1, 2))\n",
    "particleTrainingData = particleTrainingData.astype(np.float16)\n",
    "\n",
    "trainingLabels = np.array([[i, 1-i] for i in labels[0:trainingDataLength]]).reshape((-1, 2))\n",
    "\n",
    "torch.save(torch.Tensor(particleTrainingData),f\"{outdir}/{label}_particleTrainingData.pt\")\n",
    "torch.save(torch.Tensor(jetMassTrainingData),f\"{outdir}/{label}_jetMassTrainingData.pt\")\n",
    "torch.save(torch.Tensor(trainingLabels),f\"{outdir}/{label}_trainingLabels.pt\")\n",
    "\n",
    "\n",
    "########## Validation Data ##########\n",
    "eventValidationData = np.array(eventData[trainingDataLength:trainingDataLength + validationDataLength])\n",
    "jetMassValidationData = np.array(jetMassData[trainingDataLength:trainingDataLength + validationDataLength])\n",
    "particleValidationData = np.transpose(\n",
    "    particleData[trainingDataLength:trainingDataLength + validationDataLength, ].reshape(validationDataLength,\n",
    "                                                                                         entriesPerParticle,\n",
    "                                                                                         particlesConsidered),\n",
    "                                                                                         axes=(0, 1, 2))\n",
    "validationLabels = np.array([[i, 1-i] for i in labels[trainingDataLength:trainingDataLength + validationDataLength]]).reshape((-1, 2))\n",
    "\n",
    "\n",
    "\n",
    "########### Testing Data ############\n",
    "particleTestData = np.transpose(particleData[trainingDataLength + validationDataLength:,].reshape(\n",
    "    len(particleData) - trainingDataLength - validationDataLength, entriesPerParticle, particlesConsidered),\n",
    "                                axes=(0, 1, 2))\n",
    "testLabels = np.array(labels[trainingDataLength + validationDataLength:])\n",
    "\n",
    "print('Selecting particlesPostCut')\n",
    "particleTrainingData = particleTrainingData[:, :particlesPostCut]\n",
    "particleValidationData = particleValidationData[:, :particlesPostCut]\n",
    "\n",
    "particlesConsidered = particlesPostCut\n",
    "\n",
    "# Separating signal and bkg arrays\n",
    "particleTrainingDataSig = particleTrainingData[trainingLabels[:,0].astype(bool)]\n",
    "particleTrainingDataBkg = particleTrainingData[trainingLabels[:,1].astype(bool)]\n",
    "particleValidationDataSig = particleValidationData[validationLabels[:,0].astype(bool)]\n",
    "particleValidationDataBkg = particleValidationData[validationLabels[:,1].astype(bool)]\n",
    "particleTrainingLabelSig = trainingLabels[trainingLabels[:,0].astype(bool)]\n",
    "particleTrainingLabelBkg = trainingLabels[trainingLabels[:,1].astype(bool)]\n",
    "\n",
    "# Jet mass for correlation\n",
    "#pt_cut = (eventTrainingData[:,4] <400) & (eventTrainingData[:,4] >300)\n",
    "jetMassTrainingDataSig = jetMassTrainingData[(trainingLabels[:,0].astype(bool)) & (pt_cut)]\n",
    "jetMassTrainingDataBkg = jetMassTrainingData[(trainingLabels[:,1].astype(bool)) & (pt_cut)]\n",
    "jetMassValidationDataSig = jetMassValidationData[(validationLabels[:,0].astype(bool)) & (pt_cut)]\n",
    "jetMassValidationDataBkg = jetMassValidationData[(validationLabels[:,1].astype(bool)) & (pt_cut)]\n",
    "\n",
    "\n",
    "fig,ax = plt.subplots()\n",
    "print(pt_cut)\n",
    "ax.hist(jetMassTrainingDataSig[pt_cut],color=\"r\",bins=20,alpha=0.5,label=\"Z'\")\n",
    "ax.hist(jetMassTrainingDataBkg,color=\"b\",bins=20,alpha=0.5,label=\"QCD\")\n",
    "plt.legend(loc=\"best\")\n",
    "ax.set_xlabel(\"Jet mass (GeV))\")\n",
    "ax.set_ylabel(\"Counts\")\n",
    "plt.show()"
   ]
  },
  {
   "cell_type": "code",
   "execution_count": 25,
   "id": "4103a733",
   "metadata": {},
   "outputs": [],
   "source": [
    "# Defines the interaction matrices\n",
    "class GraphNetnoSV(nn.Module):\n",
    "    def __init__(self, n_constituents, n_targets, params, hidden, De=5, Do=6, softmax=False):\n",
    "        super(GraphNetnoSV, self).__init__()\n",
    "        self.hidden = int(hidden)\n",
    "        self.P = params\n",
    "        self.Nv = 0 \n",
    "        self.N = n_constituents\n",
    "        self.Nr = self.N * (self.N - 1)\n",
    "        self.Nt = self.N * self.Nv\n",
    "        self.Ns = self.Nv * (self.Nv - 1)\n",
    "        self.Dr = 0\n",
    "        self.De = De\n",
    "        self.Dx = 0\n",
    "        self.Do = Do\n",
    "        self.S = 0\n",
    "        self.n_targets = n_targets\n",
    "        self.assign_matrices()\n",
    "           \n",
    "        self.Ra = torch.ones(self.Dr, self.Nr)\n",
    "        self.fr1 = nn.Linear(2 * self.P + self.Dr, self.hidden).cuda()\n",
    "        self.fr2 = nn.Linear(self.hidden, int(self.hidden/2)).cuda()\n",
    "        self.fr3 = nn.Linear(int(self.hidden/2), self.De).cuda()\n",
    "        self.fr1_pv = nn.Linear(self.S + self.P + self.Dr, self.hidden).cuda()\n",
    "        self.fr2_pv = nn.Linear(self.hidden, int(self.hidden/2)).cuda()\n",
    "        self.fr3_pv = nn.Linear(int(self.hidden/2), self.De).cuda()\n",
    "        \n",
    "        self.fo1 = nn.Linear(self.P + self.Dx + (self.De), self.hidden).cuda()\n",
    "        self.fo2 = nn.Linear(self.hidden, int(self.hidden/2)).cuda()\n",
    "        self.fo3 = nn.Linear(int(self.hidden/2), self.Do).cuda()\n",
    "        \n",
    "        self.fc_fixed = nn.Linear(self.Do, self.n_targets).cuda()\n",
    "        self.activation = torch.nn.Sigmoid()\n",
    "            \n",
    "    def assign_matrices(self):\n",
    "        self.Rr = torch.zeros(self.N, self.Nr)\n",
    "        self.Rs = torch.zeros(self.N, self.Nr)\n",
    "        receiver_sender_list = [i for i in itertools.product(range(self.N), range(self.N)) if i[0]!=i[1]]\n",
    "        for i, (r, s) in enumerate(receiver_sender_list):\n",
    "            self.Rr[r, i] = 1\n",
    "            self.Rs[s, i] = 1\n",
    "        self.Rr = (self.Rr).cuda()\n",
    "        self.Rs = (self.Rs).cuda()\n",
    "\n",
    "    def forward(self, x):\n",
    "        ###PF Candidate - PF Candidate###\n",
    "        Orr = self.tmul(x, self.Rr)\n",
    "        Ors = self.tmul(x, self.Rs)\n",
    "        B = torch.cat([Orr, Ors], 1)\n",
    "        ### First MLP ###\n",
    "        B = torch.transpose(B, 1, 2).contiguous()\n",
    "        B = nn.functional.relu(self.fr1(B.view(-1, 2 * self.P + self.Dr)))\n",
    "        B = nn.functional.relu(self.fr2(B))\n",
    "        E = nn.functional.relu(self.fr3(B).view(-1, self.Nr, self.De))\n",
    "        del B\n",
    "        E = torch.transpose(E, 1, 2).contiguous()\n",
    "        Ebar_pp = self.tmul(E, torch.transpose(self.Rr, 0, 1).contiguous())\n",
    "        del E\n",
    "        \n",
    "\n",
    "        ####Final output matrix for particles###\n",
    "        \n",
    "\n",
    "        C = torch.cat([x, Ebar_pp], 1)\n",
    "        del Ebar_pp\n",
    "        C = torch.transpose(C, 1, 2).contiguous()\n",
    "        ### Second MLP ###\n",
    "        C = nn.functional.relu(self.fo1(C.view(-1, self.P + self.Dx + (self.De))))\n",
    "        C = nn.functional.relu(self.fo2(C))\n",
    "        O = nn.functional.relu(self.fo3(C).view(-1, self.N, self.Do))\n",
    "        del C\n",
    "\n",
    "        \n",
    "        #Taking the sum of over each particle/vertex\n",
    "        N = torch.sum(O, dim=1)\n",
    "        del O\n",
    "        \n",
    "        ### Classification MLP ###\n",
    "\n",
    "        N = self.fc_fixed(N)\n",
    "        \n",
    "        if softmax:\n",
    "            N = nn.Softmax(dim=1)(N)\n",
    "        \n",
    "        return self.activation(N)\n",
    "            \n",
    "    def tmul(self, x, y):  #Takes (I * J * K)(K * L) -> I * J * L \n",
    "        x_shape = x.size()\n",
    "        y_shape = y.size()\n",
    "        return torch.mm(x.view(-1, x_shape[2]), y).view(-1, x_shape[1], y_shape[1])\n",
    "    \n",
    "\n",
    "class DNN(nn.Module):\n",
    "    def __init__(self, n_targets):\n",
    "        super(DNN, self).__init__()\n",
    "        #self.flat = torch.flatten()\n",
    "        self.f0 = nn.Linear(200, 400).cuda()\n",
    "        self.f0b = nn.Linear(400, 400).cuda()\n",
    "        self.f1 = nn.Linear(400, 100).cuda()\n",
    "        self.f2 = nn.Linear(100, 50).cuda()\n",
    "        self.f3 = nn.Linear(50, 10).cuda()\n",
    "        self.f4 = nn.Linear(10, n_targets).cuda()\n",
    "        self.activation = torch.nn.ReLU()\n",
    "    def forward(self, x): \n",
    "        x = torch.flatten(x,start_dim=1)\n",
    "        x = self.activation(self.f0(x))\n",
    "        #x = self.f0b(x)\n",
    "        x = self.activation(self.f1(x))\n",
    "        x = self.activation(self.f2(x))\n",
    "        x = self.activation(self.f3(x))\n",
    "        x = self.f4(x)\n",
    "        return(x)\n",
    "    \n",
    "\n",
    "class simple_MLP(torch.nn.Module):\n",
    "    def __init__(self,input_size=5,out_channels=2,act_out=True,nlayers=4,nhidden=50,batchnorm=True):\n",
    "        super().__init__()\n",
    "        self.bn  = torch.nn.BatchNorm1d(input_size).cuda()\n",
    "        self.fc1 = torch.nn.Linear(input_size, 50, bias=False).cuda()\n",
    "        self.ac1 = torch.nn.ReLU().cuda()\n",
    "        self.dp1 = torch.nn.Dropout(p=0.2).cuda()\n",
    "        self.fc2 = torch.nn.Linear(50, 30).cuda()\n",
    "        self.ac2 = torch.nn.ReLU().cuda()\n",
    "        self.fc3 = torch.nn.Linear(30, 10).cuda()\n",
    "        self.ac3 = torch.nn.ReLU().cuda()\n",
    "        self.fc4 = torch.nn.Linear(10, out_channels).cuda()\n",
    "        self.output = torch.nn.Sigmoid().cuda()\n",
    "        self.out_channels = out_channels\n",
    "        self.act_out = act_out\n",
    "        self.nlayers = nlayers\n",
    "        self.runbatchnorm = batchnorm\n",
    "        \n",
    "    def forward(self, x):\n",
    "        x = self.bn(x)\n",
    "        x = self.fc1(x)\n",
    "        #x = self.ac1(x)\n",
    "        x = self.fc2(x)\n",
    "        #x = self.ac2(x)\n",
    "        x = self.fc3(x)\n",
    "        #x = self.ac3(x)\n",
    "        x = self.fc4(x)\n",
    "        #if self.runbatchnorm:\n",
    "        #    x = self.batchnorm(x)\n",
    "        #if self.act_out:\n",
    "        x = self.output(x)\n",
    "        return x"
   ]
  },
  {
   "cell_type": "code",
   "execution_count": 26,
   "id": "f28b20fe",
   "metadata": {},
   "outputs": [],
   "source": [
    "# Define losses \n",
    "class BarlowTwinsLoss(torch.nn.Module):\n",
    "\n",
    "    def __init__(self, lambda_param=5e-3):\n",
    "        super(BarlowTwinsLoss, self).__init__()\n",
    "        self.lambda_param = lambda_param\n",
    "        self.device = torch.device('cuda:0')\n",
    "\n",
    "    def forward(self, z_a: torch.Tensor, z_b: torch.Tensor):\n",
    "        #self.device = (torch.device('cuda')if z_a.is_cuda else torch.device('cpu'))\n",
    "        # normalize repr. along the batch dimension\n",
    "        z_a_norm = (z_a - z_a.mean(0)) / z_a.std(0) # NxD\n",
    "        z_b_norm = (z_b - z_b.mean(0)) / z_b.std(0) # NxD\n",
    "\n",
    "        N = z_a.size(0)\n",
    "        D = z_a.size(1)\n",
    "\n",
    "        # cross-correlation matrix\n",
    "        c = torch.mm(z_a_norm.T, z_b_norm) / N # DxD\n",
    "        # loss\n",
    "        c_diff = (c - torch.eye(D, device=self.device)).pow(2) # DxD\n",
    "        # multiply off-diagonal elems of c_diff by lambda\n",
    "        c_diff[~torch.eye(D, dtype=bool)] *= self.lambda_param\n",
    "        loss = c_diff.sum()\n",
    "        return loss\n",
    "\n",
    "class CorrLoss(nn.Module):\n",
    "    def __init__(self, corr=False,sort_tolerance=1.0,sort_reg='l2'):\n",
    "        super(CorrLoss, self).__init__()\n",
    "        self.tolerance = sort_tolerance\n",
    "        self.reg       = sort_reg\n",
    "        self.corr      = corr\n",
    "        \n",
    "    def spearman(self, pred, target):\n",
    "        pred   = soft_rank(pred.cpu().reshape(1,-1),regularization=self.reg,regularization_strength=self.tolerance,)\n",
    "        target = soft_rank(target.cpu().reshape(1,-1),regularization=self.reg,regularization_strength=self.tolerance,)\n",
    "        #pred   = torchsort.soft_rank(pred.reshape(1,-1),regularization_strength=x)\n",
    "        #target = torchsort.soft_rank(target.reshape(1,-1),regularization_strength=x)\n",
    "        pred = pred - pred.mean()\n",
    "        pred = pred / pred.norm()\n",
    "        target = target - target.mean()\n",
    "        target = target / target.norm()\n",
    "        ret = (pred * target).sum()\n",
    "        if self.corr:\n",
    "            return (1-ret)*(1-ret)\n",
    "        else:\n",
    "            return ret*ret \n",
    "    \n",
    "    def forward(self, features, labels):\n",
    "        return self.spearman(features,labels)\n",
    "    \n",
    "def off_diagonal(x):\n",
    "    n, m = x.shape\n",
    "    assert n == m\n",
    "    return x.flatten()[:-1].view(n - 1, n + 1)[:, 1:].flatten()\n",
    "\n",
    "class VICRegLoss(torch.nn.Module):\n",
    "\n",
    "    def __init__(self, lambda_param=1,mu_param=1,nu_param=20):\n",
    "        super(VICRegLoss, self).__init__()\n",
    "        self.lambda_param = lambda_param\n",
    "        self.mu_param = mu_param\n",
    "        self.nu_param = nu_param\n",
    "        #self.device = torch.device('cpu')\n",
    "\n",
    "    def forward(self, x, y):\n",
    "        self.device = (torch.device('cuda')if x.is_cuda else torch.device('cpu'))\n",
    "        \n",
    "        x_scale = x\n",
    "        y_scale = y\n",
    "        repr_loss = F.mse_loss(x_scale, y_scale)\n",
    "        \n",
    "        #x = torch.cat(FullGatherLayer.apply(x), dim=0)\n",
    "        #y = torch.cat(FullGatherLayer.apply(y), dim=0)\n",
    "        x = x_scale - x_scale.mean(dim=0)\n",
    "        y = y_scale - y_scale.mean(dim=0)\n",
    "        N = x_scale.size(0)\n",
    "        D = x_scale.size(1)\n",
    "        \n",
    "        std_x = torch.sqrt(x_scale.var(dim=0) + 0.0001)\n",
    "        std_y = torch.sqrt(y_scale.var(dim=0) + 0.0001)\n",
    "        std_loss = torch.mean(F.relu(1 - std_x)) / 2 + torch.mean(F.relu(1 - std_y)) / 2\n",
    "\n",
    "        cov_x = (x_scale.T @ x_scale) / (N - 1)\n",
    "        cov_y = (y_scale.T @ y_scale) / (N - 1)\n",
    "        cov_loss = off_diagonal(cov_x).pow_(2).sum().div(D) + off_diagonal(cov_y).pow_(2).sum().div(D)\n",
    "\n",
    "        #loss = (self.lambda_param * repr_loss + self.mu_param * std_loss+ self.nu_param * cov_loss)\n",
    "        #print(repr_loss,cov_loss,std_loss)\n",
    "        return repr_loss,cov_loss,std_loss"
   ]
  },
  {
   "cell_type": "code",
   "execution_count": 27,
   "id": "d1c614dd",
   "metadata": {
    "scrolled": true
   },
   "outputs": [
    {
     "name": "stdout",
     "output_type": "stream",
     "text": [
      "Epoch 0\n",
      "\n"
     ]
    },
    {
     "name": "stderr",
     "output_type": "stream",
     "text": [
      "100%|████████████████████████████████████████████████████████████████████████████████████████████████████████| 56/56 [00:29<00:00,  1.92it/s]\n"
     ]
    },
    {
     "name": "stdout",
     "output_type": "stream",
     "text": [
      "Training done in 30.7168 seconds\n"
     ]
    },
    {
     "name": "stderr",
     "output_type": "stream",
     "text": [
      "No artists with labels found to put in legend.  Note that artists whose label start with an underscore are ignored when legend() is called with no argument.\n",
      "/tmp/ipykernel_22175/2120289532.py:211: UserWarning: color is redundantly defined by the 'color' keyword argument and the fmt string \"k+\" (-> color='k'). The keyword argument will take precedence.\n",
      "  axs[dim].plot(out1_val[:int(batchSize/2), dim], trainingv1_val_mass[:int(batchSize/2)], 'k+',c='r', alpha=0.5)\n",
      "/tmp/ipykernel_22175/2120289532.py:213: UserWarning: color is redundantly defined by the 'color' keyword argument and the fmt string \"k+\" (-> color='k'). The keyword argument will take precedence.\n",
      "  axs[dim].plot(out1_val[int(batchSize/2):, dim], trainingv1_val_mass[int(batchSize/2):], 'k+',c='b', alpha=0.5)\n"
     ]
    },
    {
     "name": "stdout",
     "output_type": "stream",
     "text": [
      "Evaluation done in 5.1471 seconds\n",
      "\n",
      "Validation Loss:  0.9580409952572414\n",
      "Training Loss:  0.980798102915287\n",
      "new best model\n",
      "(140000, 2) (140000, 2)\n",
      "[[0. 1.]\n",
      " [1. 0.]\n",
      " [0. 1.]\n",
      " ...\n",
      " [1. 0.]\n",
      " [1. 0.]\n",
      " [0. 1.]] [[-0.22138907  0.10729589]\n",
      " [-0.25158012  0.10947951]\n",
      " [-0.20684598  0.18283841]\n",
      " ...\n",
      " [-0.21048081 -0.01273927]\n",
      " [-0.25546885  0.10715429]\n",
      " [-0.23947446  0.16733474]]\n",
      "Validation Accuracy:  0.4831857142857143\n",
      "Epoch 1\n",
      "\n"
     ]
    },
    {
     "name": "stderr",
     "output_type": "stream",
     "text": [
      "100%|████████████████████████████████████████████████████████████████████████████████████████████████████████| 56/56 [00:25<00:00,  2.21it/s]\n"
     ]
    },
    {
     "name": "stdout",
     "output_type": "stream",
     "text": [
      "Training done in 26.8030 seconds\n"
     ]
    },
    {
     "name": "stderr",
     "output_type": "stream",
     "text": [
      "No artists with labels found to put in legend.  Note that artists whose label start with an underscore are ignored when legend() is called with no argument.\n",
      "/tmp/ipykernel_22175/2120289532.py:211: UserWarning: color is redundantly defined by the 'color' keyword argument and the fmt string \"k+\" (-> color='k'). The keyword argument will take precedence.\n",
      "  axs[dim].plot(out1_val[:int(batchSize/2), dim], trainingv1_val_mass[:int(batchSize/2)], 'k+',c='r', alpha=0.5)\n",
      "/tmp/ipykernel_22175/2120289532.py:213: UserWarning: color is redundantly defined by the 'color' keyword argument and the fmt string \"k+\" (-> color='k'). The keyword argument will take precedence.\n",
      "  axs[dim].plot(out1_val[int(batchSize/2):, dim], trainingv1_val_mass[int(batchSize/2):], 'k+',c='b', alpha=0.5)\n",
      "WARNING:root:Too few points to create valid contours\n",
      "WARNING:root:Too few points to create valid contours\n"
     ]
    },
    {
     "name": "stdout",
     "output_type": "stream",
     "text": [
      "Evaluation done in 4.8735 seconds\n",
      "\n",
      "Validation Loss:  0.888188191822597\n",
      "Training Loss:  0.9205152956502778\n",
      "new best model\n",
      "(140000, 2) (140000, 2)\n",
      "[[0. 1.]\n",
      " [1. 0.]\n",
      " [0. 1.]\n",
      " ...\n",
      " [1. 0.]\n",
      " [1. 0.]\n",
      " [0. 1.]] [[-0.40985423 -0.10190346]\n",
      " [-0.47627914 -0.05719651]\n",
      " [-0.5971241   0.23808226]\n",
      " ...\n",
      " [-0.26290685 -0.15734173]\n",
      " [-0.5828621   0.09875883]\n",
      " [-0.73522645  0.25345254]]\n",
      "Validation Accuracy:  0.4831857142857143\n",
      "Epoch 2\n",
      "\n"
     ]
    },
    {
     "name": "stderr",
     "output_type": "stream",
     "text": [
      "100%|████████████████████████████████████████████████████████████████████████████████████████████████████████| 56/56 [00:24<00:00,  2.31it/s]\n"
     ]
    },
    {
     "name": "stdout",
     "output_type": "stream",
     "text": [
      "Training done in 25.6121 seconds\n"
     ]
    },
    {
     "name": "stderr",
     "output_type": "stream",
     "text": [
      "WARNING:matplotlib.legend:No artists with labels found to put in legend.  Note that artists whose label start with an underscore are ignored when legend() is called with no argument.\n",
      "/tmp/ipykernel_22175/2120289532.py:211: UserWarning: color is redundantly defined by the 'color' keyword argument and the fmt string \"k+\" (-> color='k'). The keyword argument will take precedence.\n",
      "  axs[dim].plot(out1_val[:int(batchSize/2), dim], trainingv1_val_mass[:int(batchSize/2)], 'k+',c='r', alpha=0.5)\n",
      "/tmp/ipykernel_22175/2120289532.py:213: UserWarning: color is redundantly defined by the 'color' keyword argument and the fmt string \"k+\" (-> color='k'). The keyword argument will take precedence.\n",
      "  axs[dim].plot(out1_val[int(batchSize/2):, dim], trainingv1_val_mass[int(batchSize/2):], 'k+',c='b', alpha=0.5)\n",
      "WARNING:root:Too few points to create valid contours\n",
      "WARNING:root:Too few points to create valid contours\n"
     ]
    },
    {
     "name": "stdout",
     "output_type": "stream",
     "text": [
      "Evaluation done in 4.7296 seconds\n",
      "\n",
      "Validation Loss:  0.8753785405840192\n",
      "Training Loss:  0.8788918075816972\n",
      "new best model\n",
      "(140000, 2) (140000, 2)\n",
      "[[0. 1.]\n",
      " [1. 0.]\n",
      " [0. 1.]\n",
      " ...\n",
      " [1. 0.]\n",
      " [1. 0.]\n",
      " [0. 1.]] [[-0.5577304  -0.21724673]\n",
      " [-0.61789125 -0.20236698]\n",
      " [-0.8545043   0.25087678]\n",
      " ...\n",
      " [-0.37150097 -0.19868895]\n",
      " [-0.7622235   0.02582256]\n",
      " [-1.0851902   0.36776257]]\n",
      "Validation Accuracy:  0.4831857142857143\n",
      "Epoch 3\n",
      "\n"
     ]
    },
    {
     "name": "stderr",
     "output_type": "stream",
     "text": [
      "100%|████████████████████████████████████████████████████████████████████████████████████████████████████████| 56/56 [00:24<00:00,  2.26it/s]\n"
     ]
    },
    {
     "name": "stdout",
     "output_type": "stream",
     "text": [
      "Training done in 26.1715 seconds\n"
     ]
    },
    {
     "name": "stderr",
     "output_type": "stream",
     "text": [
      "WARNING:matplotlib.legend:No artists with labels found to put in legend.  Note that artists whose label start with an underscore are ignored when legend() is called with no argument.\n",
      "/tmp/ipykernel_22175/2120289532.py:211: UserWarning: color is redundantly defined by the 'color' keyword argument and the fmt string \"k+\" (-> color='k'). The keyword argument will take precedence.\n",
      "  axs[dim].plot(out1_val[:int(batchSize/2), dim], trainingv1_val_mass[:int(batchSize/2)], 'k+',c='r', alpha=0.5)\n",
      "/tmp/ipykernel_22175/2120289532.py:213: UserWarning: color is redundantly defined by the 'color' keyword argument and the fmt string \"k+\" (-> color='k'). The keyword argument will take precedence.\n",
      "  axs[dim].plot(out1_val[int(batchSize/2):, dim], trainingv1_val_mass[int(batchSize/2):], 'k+',c='b', alpha=0.5)\n",
      "WARNING:root:Too few points to create valid contours\n",
      "WARNING:root:Too few points to create valid contours\n"
     ]
    },
    {
     "name": "stdout",
     "output_type": "stream",
     "text": [
      "Evaluation done in 5.0126 seconds\n",
      "\n",
      "Validation Loss:  0.8745389836175101\n",
      "Training Loss:  0.8746938002961022\n",
      "new best model\n",
      "(140000, 2) (140000, 2)\n",
      "[[0. 1.]\n",
      " [1. 0.]\n",
      " [0. 1.]\n",
      " ...\n",
      " [1. 0.]\n",
      " [1. 0.]\n",
      " [0. 1.]] [[-0.59253657 -0.23380944]\n",
      " [-0.65674496 -0.2238827 ]\n",
      " [-0.9080258   0.26630217]\n",
      " ...\n",
      " [-0.4087306  -0.21037455]\n",
      " [-0.7948396   0.00315011]\n",
      " [-1.1439505   0.39427865]]\n",
      "Validation Accuracy:  0.4831857142857143\n",
      "Epoch 4\n",
      "\n"
     ]
    },
    {
     "name": "stderr",
     "output_type": "stream",
     "text": [
      "100%|████████████████████████████████████████████████████████████████████████████████████████████████████████| 56/56 [00:23<00:00,  2.35it/s]\n"
     ]
    },
    {
     "name": "stdout",
     "output_type": "stream",
     "text": [
      "Training done in 25.2303 seconds\n"
     ]
    },
    {
     "name": "stderr",
     "output_type": "stream",
     "text": [
      "WARNING:matplotlib.legend:No artists with labels found to put in legend.  Note that artists whose label start with an underscore are ignored when legend() is called with no argument.\n",
      "/tmp/ipykernel_22175/2120289532.py:211: UserWarning: color is redundantly defined by the 'color' keyword argument and the fmt string \"k+\" (-> color='k'). The keyword argument will take precedence.\n",
      "  axs[dim].plot(out1_val[:int(batchSize/2), dim], trainingv1_val_mass[:int(batchSize/2)], 'k+',c='r', alpha=0.5)\n",
      "/tmp/ipykernel_22175/2120289532.py:213: UserWarning: color is redundantly defined by the 'color' keyword argument and the fmt string \"k+\" (-> color='k'). The keyword argument will take precedence.\n",
      "  axs[dim].plot(out1_val[int(batchSize/2):, dim], trainingv1_val_mass[int(batchSize/2):], 'k+',c='b', alpha=0.5)\n",
      "/uscms_data/d3/jkrupa/flat/mambaforge/envs/IN/lib/python3.10/site-packages/corner/core.py:95: RuntimeWarning: More than 20 figures have been opened. Figures created through the pyplot interface (`matplotlib.pyplot.figure`) are retained until explicitly closed and may consume too much memory. (To control this warning, see the rcParam `figure.max_open_warning`).\n",
      "  fig, axes = pl.subplots(K, K, figsize=(dim, dim))\n",
      "WARNING:root:Too few points to create valid contours\n",
      "WARNING:root:Too few points to create valid contours\n"
     ]
    },
    {
     "name": "stdout",
     "output_type": "stream",
     "text": [
      "Evaluation done in 4.3951 seconds\n",
      "\n",
      "Validation Loss:  0.8752551078796387\n",
      "Training Loss:  0.8745222528065953\n",
      "(140000, 2) (140000, 2)\n",
      "[[0. 1.]\n",
      " [1. 0.]\n",
      " [0. 1.]\n",
      " ...\n",
      " [1. 0.]\n",
      " [1. 0.]\n",
      " [0. 1.]] [[-0.60829616 -0.23026626]\n",
      " [-0.66688013 -0.21319172]\n",
      " [-0.92392063  0.29391098]\n",
      " ...\n",
      " [-0.4145092  -0.21114215]\n",
      " [-0.8091501   0.02397126]\n",
      " [-1.1566706   0.4158264 ]]\n",
      "Validation Accuracy:  0.4831857142857143\n",
      "Epoch 5\n",
      "\n"
     ]
    },
    {
     "name": "stderr",
     "output_type": "stream",
     "text": [
      "100%|████████████████████████████████████████████████████████████████████████████████████████████████████████| 56/56 [00:24<00:00,  2.25it/s]\n"
     ]
    },
    {
     "name": "stdout",
     "output_type": "stream",
     "text": [
      "Training done in 26.1893 seconds\n"
     ]
    },
    {
     "name": "stderr",
     "output_type": "stream",
     "text": [
      "WARNING:matplotlib.legend:No artists with labels found to put in legend.  Note that artists whose label start with an underscore are ignored when legend() is called with no argument.\n",
      "/tmp/ipykernel_22175/2120289532.py:211: UserWarning: color is redundantly defined by the 'color' keyword argument and the fmt string \"k+\" (-> color='k'). The keyword argument will take precedence.\n",
      "  axs[dim].plot(out1_val[:int(batchSize/2), dim], trainingv1_val_mass[:int(batchSize/2)], 'k+',c='r', alpha=0.5)\n",
      "/tmp/ipykernel_22175/2120289532.py:213: UserWarning: color is redundantly defined by the 'color' keyword argument and the fmt string \"k+\" (-> color='k'). The keyword argument will take precedence.\n",
      "  axs[dim].plot(out1_val[int(batchSize/2):, dim], trainingv1_val_mass[int(batchSize/2):], 'k+',c='b', alpha=0.5)\n",
      "WARNING:root:Too few points to create valid contours\n",
      "WARNING:root:Too few points to create valid contours\n"
     ]
    },
    {
     "name": "stdout",
     "output_type": "stream",
     "text": [
      "Evaluation done in 4.4706 seconds\n",
      "\n",
      "Validation Loss:  0.8734468477112907\n",
      "Training Loss:  0.8743981069752148\n",
      "new best model\n",
      "(140000, 2) (140000, 2)\n",
      "[[0. 1.]\n",
      " [1. 0.]\n",
      " [0. 1.]\n",
      " ...\n",
      " [1. 0.]\n",
      " [1. 0.]\n",
      " [0. 1.]] [[-0.6164133  -0.23198257]\n",
      " [-0.6695586  -0.22475752]\n",
      " [-0.953739    0.3104797 ]\n",
      " ...\n",
      " [-0.41782713 -0.21188954]\n",
      " [-0.8136546   0.00181258]\n",
      " [-1.1675686   0.3979882 ]]\n",
      "Validation Accuracy:  0.4831857142857143\n",
      "Epoch 6\n",
      "\n"
     ]
    },
    {
     "name": "stderr",
     "output_type": "stream",
     "text": [
      "100%|████████████████████████████████████████████████████████████████████████████████████████████████████████| 56/56 [00:24<00:00,  2.30it/s]\n"
     ]
    },
    {
     "name": "stdout",
     "output_type": "stream",
     "text": [
      "Training done in 25.7631 seconds\n"
     ]
    },
    {
     "name": "stderr",
     "output_type": "stream",
     "text": [
      "WARNING:matplotlib.legend:No artists with labels found to put in legend.  Note that artists whose label start with an underscore are ignored when legend() is called with no argument.\n",
      "/tmp/ipykernel_22175/2120289532.py:211: UserWarning: color is redundantly defined by the 'color' keyword argument and the fmt string \"k+\" (-> color='k'). The keyword argument will take precedence.\n",
      "  axs[dim].plot(out1_val[:int(batchSize/2), dim], trainingv1_val_mass[:int(batchSize/2)], 'k+',c='r', alpha=0.5)\n",
      "/tmp/ipykernel_22175/2120289532.py:213: UserWarning: color is redundantly defined by the 'color' keyword argument and the fmt string \"k+\" (-> color='k'). The keyword argument will take precedence.\n",
      "  axs[dim].plot(out1_val[int(batchSize/2):, dim], trainingv1_val_mass[int(batchSize/2):], 'k+',c='b', alpha=0.5)\n",
      "WARNING:root:Too few points to create valid contours\n",
      "WARNING:root:Too few points to create valid contours\n"
     ]
    },
    {
     "name": "stdout",
     "output_type": "stream",
     "text": [
      "Evaluation done in 4.5798 seconds\n",
      "\n",
      "Validation Loss:  0.8752813254083905\n",
      "Training Loss:  0.8746398655431611\n",
      "(140000, 2) (140000, 2)\n",
      "[[0. 1.]\n",
      " [1. 0.]\n",
      " [0. 1.]\n",
      " ...\n",
      " [1. 0.]\n",
      " [1. 0.]\n",
      " [0. 1.]] [[-0.6297182  -0.23169227]\n",
      " [-0.67359555 -0.22537239]\n",
      " [-0.95211387  0.2901621 ]\n",
      " ...\n",
      " [-0.4227354  -0.21260943]\n",
      " [-0.8207045  -0.0018523 ]\n",
      " [-1.165725    0.37892556]]\n",
      "Validation Accuracy:  0.4831857142857143\n",
      "Epoch 7\n",
      "\n"
     ]
    },
    {
     "name": "stderr",
     "output_type": "stream",
     "text": [
      "100%|████████████████████████████████████████████████████████████████████████████████████████████████████████| 56/56 [00:24<00:00,  2.28it/s]\n"
     ]
    },
    {
     "name": "stdout",
     "output_type": "stream",
     "text": [
      "Training done in 25.7700 seconds\n"
     ]
    },
    {
     "name": "stderr",
     "output_type": "stream",
     "text": [
      "WARNING:matplotlib.legend:No artists with labels found to put in legend.  Note that artists whose label start with an underscore are ignored when legend() is called with no argument.\n",
      "/tmp/ipykernel_22175/2120289532.py:211: UserWarning: color is redundantly defined by the 'color' keyword argument and the fmt string \"k+\" (-> color='k'). The keyword argument will take precedence.\n",
      "  axs[dim].plot(out1_val[:int(batchSize/2), dim], trainingv1_val_mass[:int(batchSize/2)], 'k+',c='r', alpha=0.5)\n",
      "/tmp/ipykernel_22175/2120289532.py:213: UserWarning: color is redundantly defined by the 'color' keyword argument and the fmt string \"k+\" (-> color='k'). The keyword argument will take precedence.\n",
      "  axs[dim].plot(out1_val[int(batchSize/2):, dim], trainingv1_val_mass[int(batchSize/2):], 'k+',c='b', alpha=0.5)\n",
      "WARNING:root:Too few points to create valid contours\n",
      "WARNING:root:Too few points to create valid contours\n"
     ]
    },
    {
     "name": "stdout",
     "output_type": "stream",
     "text": [
      "Evaluation done in 4.7104 seconds\n",
      "\n",
      "Validation Loss:  0.8734220692089626\n",
      "Training Loss:  0.8747781759926251\n",
      "new best model\n",
      "(140000, 2) (140000, 2)\n",
      "[[0. 1.]\n",
      " [1. 0.]\n",
      " [0. 1.]\n",
      " ...\n",
      " [1. 0.]\n",
      " [1. 0.]\n",
      " [0. 1.]] [[-0.64717454 -0.22787857]\n",
      " [-0.6842727  -0.2173343 ]\n",
      " [-0.9692265   0.3177405 ]\n",
      " ...\n",
      " [-0.42725813 -0.21276951]\n",
      " [-0.83097714  0.01056281]\n",
      " [-1.1903749   0.41886258]]\n",
      "Validation Accuracy:  0.4831857142857143\n",
      "Epoch 8\n",
      "\n"
     ]
    },
    {
     "name": "stderr",
     "output_type": "stream",
     "text": [
      "100%|████████████████████████████████████████████████████████████████████████████████████████████████████████| 56/56 [00:23<00:00,  2.38it/s]\n"
     ]
    },
    {
     "name": "stdout",
     "output_type": "stream",
     "text": [
      "Training done in 24.8787 seconds\n"
     ]
    },
    {
     "name": "stderr",
     "output_type": "stream",
     "text": [
      "WARNING:matplotlib.legend:No artists with labels found to put in legend.  Note that artists whose label start with an underscore are ignored when legend() is called with no argument.\n",
      "/tmp/ipykernel_22175/2120289532.py:211: UserWarning: color is redundantly defined by the 'color' keyword argument and the fmt string \"k+\" (-> color='k'). The keyword argument will take precedence.\n",
      "  axs[dim].plot(out1_val[:int(batchSize/2), dim], trainingv1_val_mass[:int(batchSize/2)], 'k+',c='r', alpha=0.5)\n",
      "/tmp/ipykernel_22175/2120289532.py:213: UserWarning: color is redundantly defined by the 'color' keyword argument and the fmt string \"k+\" (-> color='k'). The keyword argument will take precedence.\n",
      "  axs[dim].plot(out1_val[int(batchSize/2):, dim], trainingv1_val_mass[int(batchSize/2):], 'k+',c='b', alpha=0.5)\n",
      "WARNING:root:Too few points to create valid contours\n",
      "WARNING:root:Too few points to create valid contours\n"
     ]
    },
    {
     "name": "stdout",
     "output_type": "stream",
     "text": [
      "Evaluation done in 4.5883 seconds\n",
      "\n",
      "Validation Loss:  0.874214197908129\n",
      "Training Loss:  0.8745657013995307\n",
      "(140000, 2) (140000, 2)\n",
      "[[0. 1.]\n",
      " [1. 0.]\n",
      " [0. 1.]\n",
      " ...\n",
      " [1. 0.]\n",
      " [1. 0.]\n",
      " [0. 1.]] [[-0.66976005 -0.22661045]\n",
      " [-0.7023268  -0.21372542]\n",
      " [-0.9902166   0.3162173 ]\n",
      " ...\n",
      " [-0.43624106 -0.21431172]\n",
      " [-0.8527483   0.01825376]\n",
      " [-1.2068074   0.41016304]]\n",
      "Validation Accuracy:  0.4831857142857143\n",
      "Epoch 9\n",
      "\n"
     ]
    },
    {
     "name": "stderr",
     "output_type": "stream",
     "text": [
      "100%|████████████████████████████████████████████████████████████████████████████████████████████████████████| 56/56 [00:26<00:00,  2.14it/s]\n"
     ]
    },
    {
     "name": "stdout",
     "output_type": "stream",
     "text": [
      "Training done in 27.5425 seconds\n"
     ]
    },
    {
     "name": "stderr",
     "output_type": "stream",
     "text": [
      "WARNING:matplotlib.legend:No artists with labels found to put in legend.  Note that artists whose label start with an underscore are ignored when legend() is called with no argument.\n",
      "/tmp/ipykernel_22175/2120289532.py:211: UserWarning: color is redundantly defined by the 'color' keyword argument and the fmt string \"k+\" (-> color='k'). The keyword argument will take precedence.\n",
      "  axs[dim].plot(out1_val[:int(batchSize/2), dim], trainingv1_val_mass[:int(batchSize/2)], 'k+',c='r', alpha=0.5)\n",
      "/tmp/ipykernel_22175/2120289532.py:213: UserWarning: color is redundantly defined by the 'color' keyword argument and the fmt string \"k+\" (-> color='k'). The keyword argument will take precedence.\n",
      "  axs[dim].plot(out1_val[int(batchSize/2):, dim], trainingv1_val_mass[int(batchSize/2):], 'k+',c='b', alpha=0.5)\n",
      "WARNING:root:Too few points to create valid contours\n",
      "WARNING:root:Too few points to create valid contours\n"
     ]
    },
    {
     "name": "stdout",
     "output_type": "stream",
     "text": [
      "Evaluation done in 4.6658 seconds\n",
      "\n",
      "Validation Loss:  0.874417279447828\n",
      "Training Loss:  0.8742791243961879\n",
      "(140000, 2) (140000, 2)\n",
      "[[0. 1.]\n",
      " [1. 0.]\n",
      " [0. 1.]\n",
      " ...\n",
      " [1. 0.]\n",
      " [1. 0.]\n",
      " [0. 1.]] [[-0.698983   -0.22269493]\n",
      " [-0.71918744 -0.20667508]\n",
      " [-1.0194687   0.33511376]\n",
      " ...\n",
      " [-0.447594   -0.21606208]\n",
      " [-0.8819827   0.04132852]\n",
      " [-1.2367115   0.42908818]]\n",
      "Validation Accuracy:  0.4831857142857143\n",
      "Epoch 10\n",
      "\n"
     ]
    },
    {
     "name": "stderr",
     "output_type": "stream",
     "text": [
      "100%|████████████████████████████████████████████████████████████████████████████████████████████████████████| 56/56 [00:25<00:00,  2.16it/s]\n"
     ]
    },
    {
     "name": "stdout",
     "output_type": "stream",
     "text": [
      "Training done in 27.2499 seconds\n"
     ]
    },
    {
     "name": "stderr",
     "output_type": "stream",
     "text": [
      "WARNING:matplotlib.legend:No artists with labels found to put in legend.  Note that artists whose label start with an underscore are ignored when legend() is called with no argument.\n",
      "/tmp/ipykernel_22175/2120289532.py:211: UserWarning: color is redundantly defined by the 'color' keyword argument and the fmt string \"k+\" (-> color='k'). The keyword argument will take precedence.\n",
      "  axs[dim].plot(out1_val[:int(batchSize/2), dim], trainingv1_val_mass[:int(batchSize/2)], 'k+',c='r', alpha=0.5)\n",
      "/tmp/ipykernel_22175/2120289532.py:213: UserWarning: color is redundantly defined by the 'color' keyword argument and the fmt string \"k+\" (-> color='k'). The keyword argument will take precedence.\n",
      "  axs[dim].plot(out1_val[int(batchSize/2):, dim], trainingv1_val_mass[int(batchSize/2):], 'k+',c='b', alpha=0.5)\n",
      "WARNING:root:Too few points to create valid contours\n",
      "WARNING:root:Too few points to create valid contours\n"
     ]
    },
    {
     "name": "stdout",
     "output_type": "stream",
     "text": [
      "Evaluation done in 4.5965 seconds\n",
      "\n",
      "Validation Loss:  0.8745924234390259\n",
      "Training Loss:  0.8741078664149556\n",
      "(140000, 2) (140000, 2)\n",
      "[[0. 1.]\n",
      " [1. 0.]\n",
      " [0. 1.]\n",
      " ...\n",
      " [1. 0.]\n",
      " [1. 0.]\n",
      " [0. 1.]] [[-0.7314382  -0.21442014]\n",
      " [-0.7384209  -0.20518303]\n",
      " [-1.0612205   0.35446048]\n",
      " ...\n",
      " [-0.46236026 -0.21720013]\n",
      " [-0.91206276  0.05635014]\n",
      " [-1.2626281   0.42758316]]\n",
      "Validation Accuracy:  0.4831857142857143\n",
      "Epoch 11\n",
      "\n"
     ]
    },
    {
     "name": "stderr",
     "output_type": "stream",
     "text": [
      "100%|████████████████████████████████████████████████████████████████████████████████████████████████████████| 56/56 [00:25<00:00,  2.20it/s]\n"
     ]
    },
    {
     "name": "stdout",
     "output_type": "stream",
     "text": [
      "Training done in 26.6830 seconds\n"
     ]
    },
    {
     "name": "stderr",
     "output_type": "stream",
     "text": [
      "WARNING:matplotlib.legend:No artists with labels found to put in legend.  Note that artists whose label start with an underscore are ignored when legend() is called with no argument.\n",
      "/tmp/ipykernel_22175/2120289532.py:211: UserWarning: color is redundantly defined by the 'color' keyword argument and the fmt string \"k+\" (-> color='k'). The keyword argument will take precedence.\n",
      "  axs[dim].plot(out1_val[:int(batchSize/2), dim], trainingv1_val_mass[:int(batchSize/2)], 'k+',c='r', alpha=0.5)\n",
      "/tmp/ipykernel_22175/2120289532.py:213: UserWarning: color is redundantly defined by the 'color' keyword argument and the fmt string \"k+\" (-> color='k'). The keyword argument will take precedence.\n",
      "  axs[dim].plot(out1_val[int(batchSize/2):, dim], trainingv1_val_mass[int(batchSize/2):], 'k+',c='b', alpha=0.5)\n",
      "WARNING:root:Too few points to create valid contours\n"
     ]
    },
    {
     "name": "stdout",
     "output_type": "stream",
     "text": [
      "Evaluation done in 4.4361 seconds\n",
      "\n",
      "Validation Loss:  0.8749703339168003\n",
      "Training Loss:  0.8740915400641305\n",
      "(140000, 2) (140000, 2)\n",
      "[[0. 1.]\n",
      " [1. 0.]\n",
      " [0. 1.]\n",
      " ...\n",
      " [1. 0.]\n",
      " [1. 0.]\n",
      " [0. 1.]] [[-0.77799416 -0.19624569]\n",
      " [-0.762992   -0.2003615 ]\n",
      " [-1.1103783   0.38690564]\n",
      " ...\n",
      " [-0.48115587 -0.21401559]\n",
      " [-0.9481671   0.07556474]\n",
      " [-1.300785    0.45073578]]\n",
      "Validation Accuracy:  0.4831857142857143\n",
      "Epoch 12\n",
      "\n"
     ]
    },
    {
     "name": "stderr",
     "output_type": "stream",
     "text": [
      "100%|████████████████████████████████████████████████████████████████████████████████████████████████████████| 56/56 [00:23<00:00,  2.37it/s]\n"
     ]
    },
    {
     "name": "stdout",
     "output_type": "stream",
     "text": [
      "Training done in 24.9622 seconds\n"
     ]
    },
    {
     "name": "stderr",
     "output_type": "stream",
     "text": [
      "WARNING:matplotlib.legend:No artists with labels found to put in legend.  Note that artists whose label start with an underscore are ignored when legend() is called with no argument.\n",
      "/tmp/ipykernel_22175/2120289532.py:211: UserWarning: color is redundantly defined by the 'color' keyword argument and the fmt string \"k+\" (-> color='k'). The keyword argument will take precedence.\n",
      "  axs[dim].plot(out1_val[:int(batchSize/2), dim], trainingv1_val_mass[:int(batchSize/2)], 'k+',c='r', alpha=0.5)\n",
      "/tmp/ipykernel_22175/2120289532.py:213: UserWarning: color is redundantly defined by the 'color' keyword argument and the fmt string \"k+\" (-> color='k'). The keyword argument will take precedence.\n",
      "  axs[dim].plot(out1_val[int(batchSize/2):, dim], trainingv1_val_mass[int(batchSize/2):], 'k+',c='b', alpha=0.5)\n"
     ]
    },
    {
     "name": "stdout",
     "output_type": "stream",
     "text": [
      "Evaluation done in 4.6025 seconds\n",
      "\n",
      "Validation Loss:  0.8734853097370693\n",
      "Training Loss:  0.8739500673753875\n",
      "(140000, 2) (140000, 2)\n",
      "[[0. 1.]\n",
      " [1. 0.]\n",
      " [0. 1.]\n",
      " ...\n",
      " [1. 0.]\n",
      " [1. 0.]\n",
      " [0. 1.]] [[-0.8309144  -0.18909793]\n",
      " [-0.79904795 -0.20109437]\n",
      " [-1.1475565   0.37960637]\n",
      " ...\n",
      " [-0.5081694  -0.2128033 ]\n",
      " [-0.99149585  0.08064348]\n",
      " [-1.328726    0.4352759 ]]\n",
      "Validation Accuracy:  0.4831857142857143\n",
      "Epoch 13\n",
      "\n"
     ]
    },
    {
     "name": "stderr",
     "output_type": "stream",
     "text": [
      "100%|████████████████████████████████████████████████████████████████████████████████████████████████████████| 56/56 [00:25<00:00,  2.24it/s]\n"
     ]
    },
    {
     "name": "stdout",
     "output_type": "stream",
     "text": [
      "Training done in 26.3178 seconds\n"
     ]
    },
    {
     "name": "stderr",
     "output_type": "stream",
     "text": [
      "WARNING:matplotlib.legend:No artists with labels found to put in legend.  Note that artists whose label start with an underscore are ignored when legend() is called with no argument.\n",
      "/tmp/ipykernel_22175/2120289532.py:211: UserWarning: color is redundantly defined by the 'color' keyword argument and the fmt string \"k+\" (-> color='k'). The keyword argument will take precedence.\n",
      "  axs[dim].plot(out1_val[:int(batchSize/2), dim], trainingv1_val_mass[:int(batchSize/2)], 'k+',c='r', alpha=0.5)\n",
      "/tmp/ipykernel_22175/2120289532.py:213: UserWarning: color is redundantly defined by the 'color' keyword argument and the fmt string \"k+\" (-> color='k'). The keyword argument will take precedence.\n",
      "  axs[dim].plot(out1_val[int(batchSize/2):, dim], trainingv1_val_mass[int(batchSize/2):], 'k+',c='b', alpha=0.5)\n"
     ]
    },
    {
     "name": "stdout",
     "output_type": "stream",
     "text": [
      "Evaluation done in 4.4884 seconds\n",
      "\n",
      "Validation Loss:  0.8733330283846173\n",
      "Training Loss:  0.8734756644283023\n",
      "new best model\n",
      "(140000, 2) (140000, 2)\n",
      "[[0. 1.]\n",
      " [1. 0.]\n",
      " [0. 1.]\n",
      " ...\n",
      " [1. 0.]\n",
      " [1. 0.]\n",
      " [0. 1.]] [[-0.89974    -0.1770078 ]\n",
      " [-0.8567232  -0.19517031]\n",
      " [-1.2117994   0.38835198]\n",
      " ...\n",
      " [-0.54865956 -0.21182805]\n",
      " [-1.0476153   0.09019381]\n",
      " [-1.3838428   0.43746382]]\n",
      "Validation Accuracy:  0.4831857142857143\n",
      "Epoch 14\n",
      "\n"
     ]
    },
    {
     "name": "stderr",
     "output_type": "stream",
     "text": [
      "100%|████████████████████████████████████████████████████████████████████████████████████████████████████████| 56/56 [00:25<00:00,  2.22it/s]\n"
     ]
    },
    {
     "name": "stdout",
     "output_type": "stream",
     "text": [
      "Training done in 26.5475 seconds\n"
     ]
    },
    {
     "name": "stderr",
     "output_type": "stream",
     "text": [
      "WARNING:matplotlib.legend:No artists with labels found to put in legend.  Note that artists whose label start with an underscore are ignored when legend() is called with no argument.\n",
      "/tmp/ipykernel_22175/2120289532.py:211: UserWarning: color is redundantly defined by the 'color' keyword argument and the fmt string \"k+\" (-> color='k'). The keyword argument will take precedence.\n",
      "  axs[dim].plot(out1_val[:int(batchSize/2), dim], trainingv1_val_mass[:int(batchSize/2)], 'k+',c='r', alpha=0.5)\n",
      "/tmp/ipykernel_22175/2120289532.py:213: UserWarning: color is redundantly defined by the 'color' keyword argument and the fmt string \"k+\" (-> color='k'). The keyword argument will take precedence.\n",
      "  axs[dim].plot(out1_val[int(batchSize/2):, dim], trainingv1_val_mass[int(batchSize/2):], 'k+',c='b', alpha=0.5)\n"
     ]
    },
    {
     "name": "stdout",
     "output_type": "stream",
     "text": [
      "Evaluation done in 4.8035 seconds\n",
      "\n",
      "Validation Loss:  0.8721746121134076\n",
      "Training Loss:  0.8728070908359119\n",
      "new best model\n",
      "(140000, 2) (140000, 2)\n",
      "[[0. 1.]\n",
      " [1. 0.]\n",
      " [0. 1.]\n",
      " ...\n",
      " [1. 0.]\n",
      " [1. 0.]\n",
      " [0. 1.]] [[-0.9947644  -0.16392915]\n",
      " [-0.93802625 -0.19169721]\n",
      " [-1.300794    0.40038753]\n",
      " ...\n",
      " [-0.59840876 -0.21140426]\n",
      " [-1.1245906   0.09883642]\n",
      " [-1.4426558   0.4320128 ]]\n",
      "Validation Accuracy:  0.4831857142857143\n",
      "Epoch 15\n",
      "\n"
     ]
    },
    {
     "name": "stderr",
     "output_type": "stream",
     "text": [
      "100%|████████████████████████████████████████████████████████████████████████████████████████████████████████| 56/56 [00:25<00:00,  2.23it/s]\n"
     ]
    },
    {
     "name": "stdout",
     "output_type": "stream",
     "text": [
      "Training done in 26.5290 seconds\n"
     ]
    },
    {
     "name": "stderr",
     "output_type": "stream",
     "text": [
      "WARNING:matplotlib.legend:No artists with labels found to put in legend.  Note that artists whose label start with an underscore are ignored when legend() is called with no argument.\n",
      "/tmp/ipykernel_22175/2120289532.py:211: UserWarning: color is redundantly defined by the 'color' keyword argument and the fmt string \"k+\" (-> color='k'). The keyword argument will take precedence.\n",
      "  axs[dim].plot(out1_val[:int(batchSize/2), dim], trainingv1_val_mass[:int(batchSize/2)], 'k+',c='r', alpha=0.5)\n",
      "/tmp/ipykernel_22175/2120289532.py:213: UserWarning: color is redundantly defined by the 'color' keyword argument and the fmt string \"k+\" (-> color='k'). The keyword argument will take precedence.\n",
      "  axs[dim].plot(out1_val[int(batchSize/2):, dim], trainingv1_val_mass[int(batchSize/2):], 'k+',c='b', alpha=0.5)\n"
     ]
    },
    {
     "name": "stdout",
     "output_type": "stream",
     "text": [
      "Evaluation done in 4.6865 seconds\n",
      "\n",
      "Validation Loss:  0.8722066283226013\n",
      "Training Loss:  0.871949237372194\n",
      "(140000, 2) (140000, 2)\n",
      "[[0. 1.]\n",
      " [1. 0.]\n",
      " [0. 1.]\n",
      " ...\n",
      " [1. 0.]\n",
      " [1. 0.]\n",
      " [0. 1.]] [[-1.160528   -0.13138731]\n",
      " [-1.0769067  -0.1678378 ]\n",
      " [-1.4203885   0.42506838]\n",
      " ...\n",
      " [-0.6785548  -0.20855209]\n",
      " [-1.2471521   0.12843673]\n",
      " [-1.5436909   0.44503194]]\n",
      "Validation Accuracy:  0.4831857142857143\n",
      "Epoch 16\n",
      "\n"
     ]
    },
    {
     "name": "stderr",
     "output_type": "stream",
     "text": [
      "100%|████████████████████████████████████████████████████████████████████████████████████████████████████████| 56/56 [00:23<00:00,  2.39it/s]\n"
     ]
    },
    {
     "name": "stdout",
     "output_type": "stream",
     "text": [
      "Training done in 24.8032 seconds\n"
     ]
    },
    {
     "name": "stderr",
     "output_type": "stream",
     "text": [
      "WARNING:matplotlib.legend:No artists with labels found to put in legend.  Note that artists whose label start with an underscore are ignored when legend() is called with no argument.\n",
      "/tmp/ipykernel_22175/2120289532.py:211: UserWarning: color is redundantly defined by the 'color' keyword argument and the fmt string \"k+\" (-> color='k'). The keyword argument will take precedence.\n",
      "  axs[dim].plot(out1_val[:int(batchSize/2), dim], trainingv1_val_mass[:int(batchSize/2)], 'k+',c='r', alpha=0.5)\n",
      "/tmp/ipykernel_22175/2120289532.py:213: UserWarning: color is redundantly defined by the 'color' keyword argument and the fmt string \"k+\" (-> color='k'). The keyword argument will take precedence.\n",
      "  axs[dim].plot(out1_val[int(batchSize/2):, dim], trainingv1_val_mass[int(batchSize/2):], 'k+',c='b', alpha=0.5)\n"
     ]
    },
    {
     "name": "stdout",
     "output_type": "stream",
     "text": [
      "Evaluation done in 5.2260 seconds\n",
      "\n",
      "Validation Loss:  0.8686441268239703\n",
      "Training Loss:  0.8704551085829735\n",
      "new best model\n",
      "(140000, 2) (140000, 2)\n",
      "[[0. 1.]\n",
      " [1. 0.]\n",
      " [0. 1.]\n",
      " ...\n",
      " [1. 0.]\n",
      " [1. 0.]\n",
      " [0. 1.]] [[-1.3973515  -0.11068106]\n",
      " [-1.2952411  -0.15060678]\n",
      " [-1.6025794   0.43428287]\n",
      " ...\n",
      " [-0.79033065 -0.2068187 ]\n",
      " [-1.4244864   0.14247254]\n",
      " [-1.6660749   0.43049094]]\n",
      "Validation Accuracy:  0.4831857142857143\n",
      "Epoch 17\n",
      "\n"
     ]
    },
    {
     "name": "stderr",
     "output_type": "stream",
     "text": [
      "100%|████████████████████████████████████████████████████████████████████████████████████████████████████████| 56/56 [00:24<00:00,  2.31it/s]\n"
     ]
    },
    {
     "name": "stdout",
     "output_type": "stream",
     "text": [
      "Training done in 25.6793 seconds\n"
     ]
    },
    {
     "name": "stderr",
     "output_type": "stream",
     "text": [
      "WARNING:matplotlib.legend:No artists with labels found to put in legend.  Note that artists whose label start with an underscore are ignored when legend() is called with no argument.\n",
      "/tmp/ipykernel_22175/2120289532.py:211: UserWarning: color is redundantly defined by the 'color' keyword argument and the fmt string \"k+\" (-> color='k'). The keyword argument will take precedence.\n",
      "  axs[dim].plot(out1_val[:int(batchSize/2), dim], trainingv1_val_mass[:int(batchSize/2)], 'k+',c='r', alpha=0.5)\n",
      "/tmp/ipykernel_22175/2120289532.py:213: UserWarning: color is redundantly defined by the 'color' keyword argument and the fmt string \"k+\" (-> color='k'). The keyword argument will take precedence.\n",
      "  axs[dim].plot(out1_val[int(batchSize/2):, dim], trainingv1_val_mass[int(batchSize/2):], 'k+',c='b', alpha=0.5)\n"
     ]
    },
    {
     "name": "stdout",
     "output_type": "stream",
     "text": [
      "Evaluation done in 4.5922 seconds\n",
      "\n",
      "Validation Loss:  0.8644272940499442\n",
      "Training Loss:  0.8669623530336789\n",
      "new best model\n",
      "(140000, 2) (140000, 2)\n",
      "[[0. 1.]\n",
      " [1. 0.]\n",
      " [0. 1.]\n",
      " ...\n",
      " [1. 0.]\n",
      " [1. 0.]\n",
      " [0. 1.]] [[-1.7589724  -0.05708187]\n",
      " [-1.5775013  -0.10878098]\n",
      " [-1.8001297   0.46030635]\n",
      " ...\n",
      " [-0.9888777  -0.20274082]\n",
      " [-1.6366639   0.1745838 ]\n",
      " [-1.733923    0.42286158]]\n",
      "Validation Accuracy:  0.4831857142857143\n",
      "Epoch 18\n",
      "\n"
     ]
    },
    {
     "name": "stderr",
     "output_type": "stream",
     "text": [
      "100%|████████████████████████████████████████████████████████████████████████████████████████████████████████| 56/56 [00:24<00:00,  2.28it/s]\n"
     ]
    },
    {
     "name": "stdout",
     "output_type": "stream",
     "text": [
      "Training done in 25.9378 seconds\n"
     ]
    },
    {
     "name": "stderr",
     "output_type": "stream",
     "text": [
      "WARNING:matplotlib.legend:No artists with labels found to put in legend.  Note that artists whose label start with an underscore are ignored when legend() is called with no argument.\n",
      "/tmp/ipykernel_22175/2120289532.py:211: UserWarning: color is redundantly defined by the 'color' keyword argument and the fmt string \"k+\" (-> color='k'). The keyword argument will take precedence.\n",
      "  axs[dim].plot(out1_val[:int(batchSize/2), dim], trainingv1_val_mass[:int(batchSize/2)], 'k+',c='r', alpha=0.5)\n",
      "/tmp/ipykernel_22175/2120289532.py:213: UserWarning: color is redundantly defined by the 'color' keyword argument and the fmt string \"k+\" (-> color='k'). The keyword argument will take precedence.\n",
      "  axs[dim].plot(out1_val[int(batchSize/2):, dim], trainingv1_val_mass[int(batchSize/2):], 'k+',c='b', alpha=0.5)\n"
     ]
    },
    {
     "name": "stdout",
     "output_type": "stream",
     "text": [
      "Evaluation done in 4.3974 seconds\n",
      "\n",
      "Validation Loss:  0.8621827619416373\n",
      "Training Loss:  0.8636636968169894\n",
      "new best model\n",
      "(140000, 2) (140000, 2)\n",
      "[[0. 1.]\n",
      " [1. 0.]\n",
      " [0. 1.]\n",
      " ...\n",
      " [1. 0.]\n",
      " [1. 0.]\n",
      " [0. 1.]] [[-1.9117557  -0.00781913]\n",
      " [-1.6123143  -0.08477751]\n",
      " [-1.8815084   0.4970838 ]\n",
      " ...\n",
      " [-1.0777571  -0.20618752]\n",
      " [-1.6836003   0.19334757]\n",
      " [-1.677822    0.4098899 ]]\n",
      "Validation Accuracy:  0.4831857142857143\n",
      "Epoch 19\n",
      "\n"
     ]
    },
    {
     "name": "stderr",
     "output_type": "stream",
     "text": [
      "100%|████████████████████████████████████████████████████████████████████████████████████████████████████████| 56/56 [00:24<00:00,  2.28it/s]\n"
     ]
    },
    {
     "name": "stdout",
     "output_type": "stream",
     "text": [
      "Training done in 25.9161 seconds\n"
     ]
    },
    {
     "name": "stderr",
     "output_type": "stream",
     "text": [
      "WARNING:matplotlib.legend:No artists with labels found to put in legend.  Note that artists whose label start with an underscore are ignored when legend() is called with no argument.\n",
      "/tmp/ipykernel_22175/2120289532.py:211: UserWarning: color is redundantly defined by the 'color' keyword argument and the fmt string \"k+\" (-> color='k'). The keyword argument will take precedence.\n",
      "  axs[dim].plot(out1_val[:int(batchSize/2), dim], trainingv1_val_mass[:int(batchSize/2)], 'k+',c='r', alpha=0.5)\n",
      "/tmp/ipykernel_22175/2120289532.py:213: UserWarning: color is redundantly defined by the 'color' keyword argument and the fmt string \"k+\" (-> color='k'). The keyword argument will take precedence.\n",
      "  axs[dim].plot(out1_val[int(batchSize/2):, dim], trainingv1_val_mass[int(batchSize/2):], 'k+',c='b', alpha=0.5)\n"
     ]
    },
    {
     "name": "stdout",
     "output_type": "stream",
     "text": [
      "Evaluation done in 4.4156 seconds\n",
      "\n",
      "Validation Loss:  0.8613867589405605\n",
      "Training Loss:  0.8620654429708209\n",
      "new best model\n",
      "(140000, 2) (140000, 2)\n",
      "[[0. 1.]\n",
      " [1. 0.]\n",
      " [0. 1.]\n",
      " ...\n",
      " [1. 0.]\n",
      " [1. 0.]\n",
      " [0. 1.]] [[-1.9370631   0.01767641]\n",
      " [-1.6028845  -0.07201829]\n",
      " [-1.849635    0.5104833 ]\n",
      " ...\n",
      " [-1.0429565  -0.2104224 ]\n",
      " [-1.6802237   0.2116424 ]\n",
      " [-1.6331875   0.40155286]]\n",
      "Validation Accuracy:  0.4831857142857143\n",
      "DONE with DNN training\n"
     ]
    },
    {
     "data": {
      "text/plain": [
       "<Figure size 432x288 with 0 Axes>"
      ]
     },
     "metadata": {},
     "output_type": "display_data"
    },
    {
     "data": {
      "text/plain": [
       "<Figure size 720x720 with 0 Axes>"
      ]
     },
     "metadata": {},
     "output_type": "display_data"
    },
    {
     "data": {
      "text/plain": [
       "<Figure size 720x3600 with 0 Axes>"
      ]
     },
     "metadata": {},
     "output_type": "display_data"
    },
    {
     "data": {
      "text/plain": [
       "<Figure size 432x288 with 0 Axes>"
      ]
     },
     "metadata": {},
     "output_type": "display_data"
    },
    {
     "data": {
      "text/plain": [
       "<Figure size 396x396 with 0 Axes>"
      ]
     },
     "metadata": {},
     "output_type": "display_data"
    },
    {
     "data": {
      "text/plain": [
       "<Figure size 720x720 with 0 Axes>"
      ]
     },
     "metadata": {},
     "output_type": "display_data"
    },
    {
     "data": {
      "text/plain": [
       "<Figure size 720x3600 with 0 Axes>"
      ]
     },
     "metadata": {},
     "output_type": "display_data"
    },
    {
     "data": {
      "text/plain": [
       "<Figure size 432x288 with 0 Axes>"
      ]
     },
     "metadata": {},
     "output_type": "display_data"
    },
    {
     "data": {
      "text/plain": [
       "<Figure size 396x396 with 0 Axes>"
      ]
     },
     "metadata": {},
     "output_type": "display_data"
    },
    {
     "data": {
      "text/plain": [
       "<Figure size 720x720 with 0 Axes>"
      ]
     },
     "metadata": {},
     "output_type": "display_data"
    },
    {
     "data": {
      "text/plain": [
       "<Figure size 720x3600 with 0 Axes>"
      ]
     },
     "metadata": {},
     "output_type": "display_data"
    },
    {
     "data": {
      "text/plain": [
       "<Figure size 432x288 with 0 Axes>"
      ]
     },
     "metadata": {},
     "output_type": "display_data"
    },
    {
     "data": {
      "text/plain": [
       "<Figure size 396x396 with 0 Axes>"
      ]
     },
     "metadata": {},
     "output_type": "display_data"
    },
    {
     "data": {
      "text/plain": [
       "<Figure size 720x720 with 0 Axes>"
      ]
     },
     "metadata": {},
     "output_type": "display_data"
    },
    {
     "data": {
      "text/plain": [
       "<Figure size 720x3600 with 0 Axes>"
      ]
     },
     "metadata": {},
     "output_type": "display_data"
    },
    {
     "data": {
      "text/plain": [
       "<Figure size 432x288 with 0 Axes>"
      ]
     },
     "metadata": {},
     "output_type": "display_data"
    },
    {
     "data": {
      "text/plain": [
       "<Figure size 396x396 with 0 Axes>"
      ]
     },
     "metadata": {},
     "output_type": "display_data"
    },
    {
     "data": {
      "text/plain": [
       "<Figure size 720x720 with 0 Axes>"
      ]
     },
     "metadata": {},
     "output_type": "display_data"
    },
    {
     "data": {
      "text/plain": [
       "<Figure size 720x3600 with 0 Axes>"
      ]
     },
     "metadata": {},
     "output_type": "display_data"
    },
    {
     "data": {
      "text/plain": [
       "<Figure size 432x288 with 0 Axes>"
      ]
     },
     "metadata": {},
     "output_type": "display_data"
    },
    {
     "data": {
      "text/plain": [
       "<Figure size 396x396 with 0 Axes>"
      ]
     },
     "metadata": {},
     "output_type": "display_data"
    },
    {
     "data": {
      "text/plain": [
       "<Figure size 720x720 with 0 Axes>"
      ]
     },
     "metadata": {},
     "output_type": "display_data"
    },
    {
     "data": {
      "text/plain": [
       "<Figure size 720x3600 with 0 Axes>"
      ]
     },
     "metadata": {},
     "output_type": "display_data"
    },
    {
     "data": {
      "text/plain": [
       "<Figure size 432x288 with 0 Axes>"
      ]
     },
     "metadata": {},
     "output_type": "display_data"
    },
    {
     "data": {
      "text/plain": [
       "<Figure size 396x396 with 0 Axes>"
      ]
     },
     "metadata": {},
     "output_type": "display_data"
    },
    {
     "data": {
      "text/plain": [
       "<Figure size 720x720 with 0 Axes>"
      ]
     },
     "metadata": {},
     "output_type": "display_data"
    },
    {
     "data": {
      "text/plain": [
       "<Figure size 720x3600 with 0 Axes>"
      ]
     },
     "metadata": {},
     "output_type": "display_data"
    },
    {
     "data": {
      "text/plain": [
       "<Figure size 432x288 with 0 Axes>"
      ]
     },
     "metadata": {},
     "output_type": "display_data"
    },
    {
     "data": {
      "text/plain": [
       "<Figure size 396x396 with 0 Axes>"
      ]
     },
     "metadata": {},
     "output_type": "display_data"
    },
    {
     "data": {
      "text/plain": [
       "<Figure size 720x720 with 0 Axes>"
      ]
     },
     "metadata": {},
     "output_type": "display_data"
    },
    {
     "data": {
      "text/plain": [
       "<Figure size 720x3600 with 0 Axes>"
      ]
     },
     "metadata": {},
     "output_type": "display_data"
    },
    {
     "data": {
      "text/plain": [
       "<Figure size 432x288 with 0 Axes>"
      ]
     },
     "metadata": {},
     "output_type": "display_data"
    },
    {
     "data": {
      "text/plain": [
       "<Figure size 396x396 with 0 Axes>"
      ]
     },
     "metadata": {},
     "output_type": "display_data"
    },
    {
     "data": {
      "text/plain": [
       "<Figure size 720x720 with 0 Axes>"
      ]
     },
     "metadata": {},
     "output_type": "display_data"
    },
    {
     "data": {
      "text/plain": [
       "<Figure size 720x3600 with 0 Axes>"
      ]
     },
     "metadata": {},
     "output_type": "display_data"
    },
    {
     "data": {
      "text/plain": [
       "<Figure size 432x288 with 0 Axes>"
      ]
     },
     "metadata": {},
     "output_type": "display_data"
    },
    {
     "data": {
      "text/plain": [
       "<Figure size 396x396 with 0 Axes>"
      ]
     },
     "metadata": {},
     "output_type": "display_data"
    },
    {
     "data": {
      "text/plain": [
       "<Figure size 720x720 with 0 Axes>"
      ]
     },
     "metadata": {},
     "output_type": "display_data"
    },
    {
     "data": {
      "text/plain": [
       "<Figure size 720x3600 with 0 Axes>"
      ]
     },
     "metadata": {},
     "output_type": "display_data"
    },
    {
     "data": {
      "text/plain": [
       "<Figure size 432x288 with 0 Axes>"
      ]
     },
     "metadata": {},
     "output_type": "display_data"
    },
    {
     "data": {
      "text/plain": [
       "<Figure size 396x396 with 0 Axes>"
      ]
     },
     "metadata": {},
     "output_type": "display_data"
    },
    {
     "data": {
      "text/plain": [
       "<Figure size 720x720 with 0 Axes>"
      ]
     },
     "metadata": {},
     "output_type": "display_data"
    },
    {
     "data": {
      "text/plain": [
       "<Figure size 720x3600 with 0 Axes>"
      ]
     },
     "metadata": {},
     "output_type": "display_data"
    },
    {
     "data": {
      "text/plain": [
       "<Figure size 432x288 with 0 Axes>"
      ]
     },
     "metadata": {},
     "output_type": "display_data"
    },
    {
     "data": {
      "text/plain": [
       "<Figure size 396x396 with 0 Axes>"
      ]
     },
     "metadata": {},
     "output_type": "display_data"
    },
    {
     "data": {
      "text/plain": [
       "<Figure size 720x720 with 0 Axes>"
      ]
     },
     "metadata": {},
     "output_type": "display_data"
    },
    {
     "data": {
      "text/plain": [
       "<Figure size 720x3600 with 0 Axes>"
      ]
     },
     "metadata": {},
     "output_type": "display_data"
    },
    {
     "data": {
      "text/plain": [
       "<Figure size 432x288 with 0 Axes>"
      ]
     },
     "metadata": {},
     "output_type": "display_data"
    },
    {
     "data": {
      "text/plain": [
       "<Figure size 396x396 with 0 Axes>"
      ]
     },
     "metadata": {},
     "output_type": "display_data"
    },
    {
     "data": {
      "text/plain": [
       "<Figure size 720x720 with 0 Axes>"
      ]
     },
     "metadata": {},
     "output_type": "display_data"
    },
    {
     "data": {
      "text/plain": [
       "<Figure size 720x3600 with 0 Axes>"
      ]
     },
     "metadata": {},
     "output_type": "display_data"
    },
    {
     "data": {
      "text/plain": [
       "<Figure size 432x288 with 0 Axes>"
      ]
     },
     "metadata": {},
     "output_type": "display_data"
    },
    {
     "data": {
      "text/plain": [
       "<Figure size 396x396 with 0 Axes>"
      ]
     },
     "metadata": {},
     "output_type": "display_data"
    },
    {
     "data": {
      "text/plain": [
       "<Figure size 720x720 with 0 Axes>"
      ]
     },
     "metadata": {},
     "output_type": "display_data"
    },
    {
     "data": {
      "text/plain": [
       "<Figure size 720x3600 with 0 Axes>"
      ]
     },
     "metadata": {},
     "output_type": "display_data"
    },
    {
     "data": {
      "text/plain": [
       "<Figure size 432x288 with 0 Axes>"
      ]
     },
     "metadata": {},
     "output_type": "display_data"
    },
    {
     "data": {
      "text/plain": [
       "<Figure size 396x396 with 0 Axes>"
      ]
     },
     "metadata": {},
     "output_type": "display_data"
    },
    {
     "data": {
      "text/plain": [
       "<Figure size 720x720 with 0 Axes>"
      ]
     },
     "metadata": {},
     "output_type": "display_data"
    },
    {
     "data": {
      "text/plain": [
       "<Figure size 720x3600 with 0 Axes>"
      ]
     },
     "metadata": {},
     "output_type": "display_data"
    },
    {
     "data": {
      "text/plain": [
       "<Figure size 432x288 with 0 Axes>"
      ]
     },
     "metadata": {},
     "output_type": "display_data"
    },
    {
     "data": {
      "text/plain": [
       "<Figure size 396x396 with 0 Axes>"
      ]
     },
     "metadata": {},
     "output_type": "display_data"
    },
    {
     "data": {
      "text/plain": [
       "<Figure size 720x720 with 0 Axes>"
      ]
     },
     "metadata": {},
     "output_type": "display_data"
    },
    {
     "data": {
      "text/plain": [
       "<Figure size 720x3600 with 0 Axes>"
      ]
     },
     "metadata": {},
     "output_type": "display_data"
    },
    {
     "data": {
      "text/plain": [
       "<Figure size 432x288 with 0 Axes>"
      ]
     },
     "metadata": {},
     "output_type": "display_data"
    },
    {
     "data": {
      "text/plain": [
       "<Figure size 396x396 with 0 Axes>"
      ]
     },
     "metadata": {},
     "output_type": "display_data"
    },
    {
     "data": {
      "text/plain": [
       "<Figure size 720x720 with 0 Axes>"
      ]
     },
     "metadata": {},
     "output_type": "display_data"
    },
    {
     "data": {
      "text/plain": [
       "<Figure size 720x3600 with 0 Axes>"
      ]
     },
     "metadata": {},
     "output_type": "display_data"
    },
    {
     "data": {
      "text/plain": [
       "<Figure size 432x288 with 0 Axes>"
      ]
     },
     "metadata": {},
     "output_type": "display_data"
    },
    {
     "data": {
      "text/plain": [
       "<Figure size 396x396 with 0 Axes>"
      ]
     },
     "metadata": {},
     "output_type": "display_data"
    },
    {
     "data": {
      "text/plain": [
       "<Figure size 720x720 with 0 Axes>"
      ]
     },
     "metadata": {},
     "output_type": "display_data"
    },
    {
     "data": {
      "text/plain": [
       "<Figure size 720x3600 with 0 Axes>"
      ]
     },
     "metadata": {},
     "output_type": "display_data"
    },
    {
     "data": {
      "text/plain": [
       "<Figure size 432x288 with 0 Axes>"
      ]
     },
     "metadata": {},
     "output_type": "display_data"
    },
    {
     "data": {
      "text/plain": [
       "<Figure size 396x396 with 0 Axes>"
      ]
     },
     "metadata": {},
     "output_type": "display_data"
    },
    {
     "data": {
      "text/plain": [
       "<Figure size 720x720 with 0 Axes>"
      ]
     },
     "metadata": {},
     "output_type": "display_data"
    },
    {
     "data": {
      "text/plain": [
       "<Figure size 720x3600 with 0 Axes>"
      ]
     },
     "metadata": {},
     "output_type": "display_data"
    },
    {
     "data": {
      "text/plain": [
       "<Figure size 432x288 with 0 Axes>"
      ]
     },
     "metadata": {},
     "output_type": "display_data"
    },
    {
     "data": {
      "text/plain": [
       "<Figure size 396x396 with 0 Axes>"
      ]
     },
     "metadata": {},
     "output_type": "display_data"
    },
    {
     "data": {
      "text/plain": [
       "<Figure size 720x720 with 0 Axes>"
      ]
     },
     "metadata": {},
     "output_type": "display_data"
    },
    {
     "data": {
      "text/plain": [
       "<Figure size 720x3600 with 0 Axes>"
      ]
     },
     "metadata": {},
     "output_type": "display_data"
    },
    {
     "data": {
      "text/plain": [
       "<Figure size 432x288 with 0 Axes>"
      ]
     },
     "metadata": {},
     "output_type": "display_data"
    },
    {
     "data": {
      "text/plain": [
       "<Figure size 396x396 with 0 Axes>"
      ]
     },
     "metadata": {},
     "output_type": "display_data"
    }
   ],
   "source": [
    "##### Training Loop Barlow DNN #########\n",
    "\n",
    "batchSize = 20000\n",
    "n_epochs = 20\n",
    "\n",
    "gnn = DNN(n_encoded_nodes)\n",
    "    \n",
    "loss = nn.BCELoss(reduction='mean')\n",
    "clr_criterion  = VICRegLoss(lambda_param=1,mu_param=1,nu_param=1)\n",
    "cor_criterion  = CorrLoss()\n",
    "acr_criterion  = CorrLoss(corr=True)\n",
    "\n",
    "BarlowLoss = False\n",
    "\n",
    "optimizer = optim.Adam(gnn.parameters(), lr = 0.0001)\n",
    "loss_vals_training = np.zeros(n_epochs)\n",
    "loss_std_training = np.zeros(n_epochs)\n",
    "loss_vals_validation = np.zeros(n_epochs)\n",
    "loss_std_validation = np.zeros(n_epochs)\n",
    "\n",
    "acc_vals_training = np.zeros(n_epochs)\n",
    "acc_vals_validation = np.zeros(n_epochs)\n",
    "acc_std_training = np.zeros(n_epochs)\n",
    "acc_std_validation = np.zeros(n_epochs)\n",
    "\n",
    "final_epoch = 0\n",
    "l_val_best = 99999\n",
    "\n",
    "from sklearn.metrics import roc_curve, roc_auc_score, accuracy_score\n",
    "softmax = torch.nn.Softmax(dim=1)\n",
    "import time\n",
    "from tqdm import tqdm \n",
    "\n",
    "for m in range(n_epochs):\n",
    "    print(\"Epoch %s\\n\" % m)\n",
    "    torch.cuda.empty_cache()\n",
    "    final_epoch = m\n",
    "    lst = []\n",
    "    loss_val = []\n",
    "    loss_training = []\n",
    "    correct = []\n",
    "    tic = time.perf_counter()\n",
    "    \n",
    "    particleTrainingDataSig, jetMassTrainingDataSig = sklearn.utils.shuffle(particleTrainingDataSig, jetMassTrainingDataSig)\n",
    "    particleTrainingDataBkg, jetMassTrainingDataBkg = sklearn.utils.shuffle(particleTrainingDataBkg, jetMassTrainingDataBkg)\n",
    "    particleValidationDataSig, jetMassValidationDataSig = sklearn.utils.shuffle(particleValidationDataSig,\n",
    "                                                                                jetMassValidationDataSig)\n",
    "    particleValidationDataBkg, jetMassValidationDataBkg = sklearn.utils.shuffle(particleValidationDataBkg,\n",
    "                                                                                jetMassValidationDataBkg)\n",
    "    \n",
    "\n",
    "    out1_totSig = np.empty((0,n_encoded_nodes))\n",
    "    out1_totBkg = np.empty((0,n_encoded_nodes))\n",
    "\n",
    "    trainingv1_mass_totSig = []\n",
    "    trainingv1_mass_totBkg = []\n",
    "\n",
    "    #print(out1_tot)\n",
    "    for i in tqdm(range(int(0.8*datapoints/batchSize))): \n",
    "        #print('%s out of %s'%(i, int(particleTrainingData.shape[0]/batchSize)))\n",
    "        optimizer.zero_grad()\n",
    "        trainingvSig = torch.Tensor(particleTrainingDataSig[i*batchSize:(i+1)*batchSize]).cuda()\n",
    "        trainingvBkg = torch.Tensor(particleTrainingDataBkg[i*batchSize:(i+1)*batchSize]).cuda()\n",
    "        trainingvMassSig = torch.Tensor(jetMassTrainingDataSig[i*batchSize:(i+1)*batchSize]).cuda()\n",
    "        trainingvMassBkg = torch.Tensor(jetMassTrainingDataBkg[i*batchSize:(i+1)*batchSize]).cuda()\n",
    "        trainingv1 = torch.cat((trainingvSig[:int(batchSize/2)], \n",
    "                                trainingvBkg[:int(batchSize/2)]))\n",
    "        trainingv1_mass = torch.cat((trainingvMassSig[:int(batchSize/2)], \n",
    "                                trainingvMassBkg[:int(batchSize/2)]))\n",
    "        trainingv2 = torch.cat((trainingvSig[int(batchSize/2):], \n",
    "                                trainingvBkg[int(batchSize/2):]))\n",
    "        trainingv2_mass = torch.cat((trainingvMassSig[int(batchSize/2):], \n",
    "                                trainingvMassBkg[int(batchSize/2):]))\n",
    "        # Calculate network output\n",
    "        out1 = gnn(trainingv1)\n",
    "        out2 = gnn(trainingv2)\n",
    "        \n",
    "        # VICReg Loss\n",
    "        repr_loss, cov_loss, std_loss = clr_criterion(out1, out2)\n",
    "        l = weightrepr*repr_loss + weightcov*cov_loss + weightstd*std_loss\n",
    "        #l = repr_loss + cov_loss + 10*std_loss\n",
    "        # AntiCorrelation\n",
    "        l += weightCorr1*acr_criterion(trainingv1_mass, out1[:,0])\n",
    "        l += weightCorr1*acr_criterion(trainingv2_mass, out2[:,0])\n",
    "       \n",
    "        # Correlation for rest of dimensions\n",
    "        for dim in range(1,n_encoded_nodes): \n",
    "            l += weightCorr2*cor_criterion(out1[:,dim], trainingv1_mass)\n",
    "            l += weightCorr2*cor_criterion(out2[:,dim], trainingv2_mass)\n",
    "                    \n",
    "        # Classical BCE loss\n",
    "        #trainingv = torch.FloatTensor(particleTrainingData[i*batchSize:(i+1)*batchSize]).cuda()\n",
    "        #out = gnn(trainingv)\n",
    "        #targetv = torch.FloatTensor(trainingLabels[i*batchSize:(i+1)*batchSize]).cuda()\n",
    "        #l = loss(out, targetv)\n",
    "        \n",
    "        \n",
    "        loss_training.append(l.item())\n",
    "        l.backward()\n",
    "        optimizer.step()\n",
    "        loss_string = \"Loss: %s\" % \"{0:.5f}\".format(l.item())\n",
    "        out1 = out1.cpu().detach().numpy()\n",
    "        out1_totSig = np.concatenate((out1_totSig,out1[:int(batchSize/2)]))\n",
    "        out1_totBkg = np.concatenate((out1_totBkg,out1[int(batchSize/2):]))\n",
    "        out2 = out2.cpu().detach().numpy()\n",
    "        out1_totSig = np.concatenate((out1_totSig,out2[:int(batchSize/2)]))\n",
    "        out1_totBkg = np.concatenate((out1_totBkg,out2[int(batchSize/2):]))\n",
    "\n",
    "        \n",
    "        trainingv1_mass = trainingv1_mass.cpu().detach().numpy().tolist()\n",
    "        trainingv1_mass_totSig += trainingv1_mass[:int(batchSize/2)]\n",
    "        trainingv1_mass_totBkg += trainingv1_mass[int(batchSize/2):]\n",
    "\n",
    "        trainingv2_mass = trainingv2_mass.cpu().detach().numpy().tolist()\n",
    "        trainingv1_mass_totSig += trainingv2_mass[:int(batchSize/2)]\n",
    "        trainingv1_mass_totBkg += trainingv2_mass[int(batchSize/2):]\n",
    "\n",
    "        \n",
    "        #print(\"SIG:\", trainingv1_mass_totSig)\n",
    "        #print(\"BKG:\", trainingv1_mass_totBkg)\n",
    "\n",
    "        del trainingvSig, trainingvBkg, l, trainingv1, trainingv2#, out1, out2, trainingv1_mass\n",
    "        torch.cuda.empty_cache()\n",
    "    #trainingv1_mass_tot = np.array(trainingv1_mass_tot)       \n",
    "    toc = time.perf_counter()\n",
    "    print(f\"Training done in {toc - tic:0.4f} seconds\")\n",
    "    tic = time.perf_counter()\n",
    "\n",
    "    \n",
    "    plt.clf()\n",
    "    fig, axs = plt.subplots(n_encoded_nodes,2, figsize=(10,dim*10))\n",
    "    \n",
    "    axs[0,0].text(0.05,2.8, loss_text, transform=ax.transAxes)\n",
    "\n",
    "    for dim in range(out1.shape[1]): \n",
    "        outSig, massSig = out1_totSig[:, dim].copy(), trainingv1_mass_totSig[:].copy()\n",
    "        outSig -= np.mean(outSig)\n",
    "        outSig /= np.std(outSig)\n",
    "        massSig -= np.mean(massSig)\n",
    "        massSig /= np.std(massSig)\n",
    "\n",
    "        outBkg, massBkg = out1_totBkg[:, dim].copy(), trainingv1_mass_totBkg[:].copy()\n",
    "        outBkg -= np.mean(outBkg)\n",
    "        outBkg /= np.std(outBkg)\n",
    "        massBkg -= np.mean(massBkg)\n",
    "        massBkg /= np.std(massBkg)\n",
    "\n",
    "        \n",
    "        axs[dim,0].text(0.8,1.03,f\"Z' Corr:  {np.corrcoef(outSig, massSig)[0,1] : .4f}\", transform=axs[dim,0].transAxes)\n",
    "        axs[dim,0].hist2d(outSig, trainingv1_mass_totSig[:], bins=30, )\n",
    "        axs[dim,1].text(0.8,1.03,f\"QCD Corr: {np.corrcoef(outBkg, massBkg)[0,1] : .4f}\", transform=axs[dim,1].transAxes)\n",
    "        axs[dim,1].hist2d(outBkg, trainingv1_mass_totBkg[:], bins=30, )\n",
    "        axs[dim,0].set_xlim([-3.,3.])\n",
    "        axs[dim,1].set_xlim([-3.,3.])\n",
    "        axs[dim,0].set_xlabel(f'Dimension {dim} output')\n",
    "        axs[dim,1].set_xlabel(f'Dimension {dim} output')\n",
    "        axs[dim,0].set_ylabel('Jet mass (GeV)')\n",
    "        \n",
    "    plt.legend(loc=\"best\")\n",
    "    plt.savefig(outdir+\"/\"+label+f\"_contrastivefigIN_trainingDataset_epoch{m}.jpg\")\n",
    "    del out1, out2, trainingv1_mass\n",
    "\n",
    "    \n",
    "    for i in range(int(0.1*datapoints/(batchSize))): \n",
    "        torch.cuda.empty_cache()\n",
    "        trainingvSig_val = torch.Tensor(particleValidationDataSig[i*batchSize:(i+1)*batchSize]).cuda()\n",
    "        trainingvBkg_val = torch.Tensor(particleValidationDataBkg[i*batchSize:(i+1)*batchSize]).cuda()\n",
    "        trainingvMassSig_val = torch.Tensor(jetMassValidationDataSig[i*batchSize:(i+1)*batchSize]).cuda()\n",
    "        trainingvMassBkg_val = torch.Tensor(jetMassValidationDataBkg[i*batchSize:(i+1)*batchSize]).cuda()\n",
    "        targetv_val = torch.Tensor(validationLabels[i*batchSize:(i+1)*batchSize]).cuda()\n",
    "        trainingv1_val = torch.cat((trainingvSig_val[:int(batchSize/2)], trainingvBkg_val[:int(batchSize/2)]))\n",
    "        trainingv2_val = torch.cat((trainingvSig_val[int(batchSize/2):], trainingvBkg_val[int(batchSize/2):]))\n",
    "        trainingv1_val_mass = torch.cat((trainingvMassSig_val[:int(batchSize/2)], \n",
    "                                trainingvMassBkg_val[:int(batchSize/2)]))\n",
    "        trainingv2_val_mass = torch.cat((trainingvMassSig_val[int(batchSize/2):], \n",
    "                                trainingvMassBkg_val[int(batchSize/2):]))\n",
    "\n",
    "        # Barlow Loss\n",
    "        out1_val = gnn(trainingv1_val)\n",
    "        out2_val = gnn(trainingv2_val)\n",
    "        \n",
    "        # VICReg Loss\n",
    "        repr_loss, cov_loss, std_loss = clr_criterion(out1_val, out2_val)\n",
    "        l_val = weightrepr*repr_loss + weightcov*cov_loss + weightstd*std_loss\n",
    "        \n",
    "        # AntiCorrelation\n",
    "        l_val += weightCorr1*acr_criterion(trainingv1_val_mass, out1_val[:,0])\n",
    "        l_val += weightCorr1*acr_criterion(trainingv2_val_mass, out2_val[:,0])\n",
    "        \n",
    "        # Correlation for rest of dimensions\n",
    "        for dim in range(1,n_encoded_nodes): \n",
    "            l_val += weightCorr2*cor_criterion(out1_val[:,dim], trainingv1_val_mass)\n",
    "            l_val += weightCorr2*cor_criterion(out2_val[:,dim], trainingv2_val_mass)\n",
    "        \n",
    "        # Classical validation\n",
    "        trainingv_val = torch.Tensor(particleValidationData[i*batchSize:(i+1)*batchSize]).cuda()\n",
    "        out = gnn(trainingv_val)\n",
    "        # l_val = loss(out, targetv_val)\n",
    "        lst.append(out.cpu().data.numpy())\n",
    "        loss_val.append(l_val.item())\n",
    "        correct.append(targetv_val.cpu())\n",
    "        out1_val = out1_val.cpu().detach().numpy()\n",
    "        trainingv1_val_mass = trainingv1_val_mass.cpu().detach().numpy()\n",
    "        \n",
    "        \n",
    "        del trainingvSig_val, trainingvBkg_val, targetv_val, trainingv1_val, trainingv2_val,out2_val\n",
    "    torch.cuda.empty_cache()\n",
    "    plt.clf()\n",
    "    fig, axs = plt.subplots(n_encoded_nodes, figsize=(10,50))\n",
    "    for dim in range(out1_val.shape[1]): \n",
    "        axs[dim].plot(out1_val[:int(batchSize/2), dim], trainingv1_val_mass[:int(batchSize/2)], 'k+',c='r', alpha=0.5)\n",
    "        #plt.xlabel('%s dimension output'%(dim))\n",
    "        axs[dim].plot(out1_val[int(batchSize/2):, dim], trainingv1_val_mass[int(batchSize/2):], 'k+',c='b', alpha=0.5)\n",
    "\n",
    "        axs[dim].set_ylabel('sdmass')\n",
    "    plt.savefig(outdir+\"/\"+label+\"_contrastivefigIN_validationDataset.jpg\")\n",
    "    \n",
    "    plt.clf()\n",
    "    plt.figure()\n",
    "    fig = corner.corner(out1_val[:int(batchSize/2)], color='red')\n",
    "    corner.corner(out1_val[int(batchSize/2):], fig=fig, color='blue')\n",
    "    plt.savefig(outdir+\"/\"+label+\"corner.jpg\")\n",
    "    plt.clf()\n",
    "    del out1_val, trainingv1_val_mass\n",
    "    #targetv_cpu = targetv.cpu().data.numpy()\n",
    "    \n",
    "    toc = time.perf_counter()\n",
    "    print(f\"Evaluation done in {toc - tic:0.4f} seconds\")\n",
    "    l_val = np.mean(np.array(loss_val))\n",
    "\n",
    "    predicted = np.concatenate(lst) #(torch.FloatTensor(np.concatenate(lst))).to(device)\n",
    "    print('\\nValidation Loss: ', l_val)\n",
    "\n",
    "    l_training = np.mean(np.array(loss_training))\n",
    "    print('Training Loss: ', l_training)\n",
    "    val_targetv = np.concatenate(correct) #torch.FloatTensor(np.array(correct)).cuda()\n",
    "\n",
    "    torch.save(gnn.state_dict(), '%s/DNN_%s_last.pth'%(outdir,label))\n",
    "    if l_val < l_val_best:\n",
    "        print(\"new best model\")\n",
    "        l_val_best = l_val\n",
    "        torch.save(gnn.state_dict(), '%s/DNN_%s_best.pth'%(outdir,label))\n",
    "\n",
    "    print(val_targetv.shape, predicted.shape)\n",
    "    print(val_targetv, predicted)\n",
    "    acc_vals_validation[m] = accuracy_score(val_targetv[:,0],predicted[:,0]>0.5)\n",
    "    print(\"Validation Accuracy: \", acc_vals_validation[m])\n",
    "    loss_vals_training[m] = l_training\n",
    "    loss_vals_validation[m] = l_val\n",
    "    loss_std_validation[m] = np.std(np.array(loss_val))\n",
    "    loss_std_training[m] = np.std(np.array(loss_training))\n",
    "    torch.cuda.empty_cache()\n",
    "\n",
    "    if m > 8 and all(loss_vals_validation[max(0, m - 8):m] > min(np.append(loss_vals_validation[0:max(0, m - 8)], 200))):\n",
    "        print('Early Stopping...')\n",
    "        print(loss_vals_training, '\\n', np.diff(loss_vals_training))\n",
    "        break\n",
    "    torch.cuda.empty_cache()\n",
    "print('DONE with DNN training')\n"
   ]
  },
  {
   "cell_type": "code",
   "execution_count": 28,
   "id": "40b37a19",
   "metadata": {},
   "outputs": [
    {
     "name": "stdout",
     "output_type": "stream",
     "text": [
      "Epoch 1 loss=1.34021\n",
      "Epoch 11 loss=0.77800\n",
      "Epoch 21 loss=0.70563\n",
      "Epoch 31 loss=0.69932\n",
      "Epoch 41 loss=0.69203\n",
      "OrderedDict([('bn.weight', tensor([-0.1138], device='cuda:0')), ('bn.bias', tensor([0.2452], device='cuda:0')), ('bn.running_mean', tensor([-0.0186], device='cuda:0')), ('bn.running_var', tensor([0.0648], device='cuda:0')), ('bn.num_batches_tracked', tensor(51, device='cuda:0')), ('fc1.weight', tensor([[ 0.0548],\n",
      "        [-0.1379],\n",
      "        [-0.1483],\n",
      "        [-0.1768],\n",
      "        [-0.2061],\n",
      "        [ 0.0894],\n",
      "        [ 0.1302],\n",
      "        [-0.1567],\n",
      "        [-0.1659],\n",
      "        [ 0.1463],\n",
      "        [-0.2091],\n",
      "        [ 0.1126],\n",
      "        [ 0.2099],\n",
      "        [ 0.1202],\n",
      "        [ 0.1762],\n",
      "        [-0.2081],\n",
      "        [-0.0437],\n",
      "        [-0.1676],\n",
      "        [ 0.0964],\n",
      "        [ 0.0389],\n",
      "        [ 0.1749],\n",
      "        [ 0.0286],\n",
      "        [ 0.1398],\n",
      "        [ 0.0741],\n",
      "        [ 0.1213],\n",
      "        [ 0.1369],\n",
      "        [-0.1664],\n",
      "        [-0.1591],\n",
      "        [-0.1641],\n",
      "        [-0.1277],\n",
      "        [-0.0697],\n",
      "        [ 0.1294],\n",
      "        [ 0.1621],\n",
      "        [ 0.0991],\n",
      "        [ 0.1493],\n",
      "        [-0.0672],\n",
      "        [ 0.1301],\n",
      "        [ 0.0371],\n",
      "        [ 0.1459],\n",
      "        [ 0.0961],\n",
      "        [ 0.1311],\n",
      "        [-0.0641],\n",
      "        [ 0.0925],\n",
      "        [ 0.1768],\n",
      "        [-0.1485],\n",
      "        [ 0.0214],\n",
      "        [-0.0518],\n",
      "        [ 0.0131],\n",
      "        [-0.0383],\n",
      "        [ 0.1006]], device='cuda:0')), ('fc2.weight', tensor([[-0.0595, -0.0420,  0.2101,  ...,  0.0763,  0.2890, -0.1005],\n",
      "        [-0.2098,  0.0132,  0.2506,  ...,  0.2112,  0.1815, -0.3207],\n",
      "        [ 0.1277,  0.2002, -0.1375,  ..., -0.0492, -0.2774,  0.1126],\n",
      "        ...,\n",
      "        [-0.1575, -0.0335,  0.0785,  ...,  0.0238, -0.2255,  0.2118],\n",
      "        [-0.1496, -0.1027,  0.1287,  ...,  0.1276, -0.0639,  0.1415],\n",
      "        [ 0.1553, -0.1947, -0.0445,  ..., -0.2709, -0.0041, -0.1853]],\n",
      "       device='cuda:0')), ('fc2.bias', tensor([ 0.0943,  0.1668, -0.1788,  0.1984,  0.1909, -0.2785,  0.1465,  0.1805,\n",
      "        -0.2801, -0.2651,  0.1502, -0.1308, -0.1650, -0.2473,  0.1426,  0.0839,\n",
      "        -0.2157,  0.2128, -0.2517,  0.3210,  0.2290, -0.1855, -0.2641, -0.1605,\n",
      "        -0.1247,  0.2019, -0.2049, -0.2189, -0.1984,  0.2340], device='cuda:0')), ('fc3.weight', tensor([[-4.6825e-02, -1.6739e-01,  4.9628e-02, -3.7169e-02, -1.7517e-01,\n",
      "          1.2072e-01, -1.5443e-01,  1.2080e-01, -1.4732e-01,  1.9396e-01,\n",
      "         -5.9153e-02,  4.1397e-02, -9.2936e-02, -1.2910e-01, -1.4428e-01,\n",
      "          1.9382e-03,  1.1821e-01,  8.8131e-02, -6.6423e-02,  9.1595e-02,\n",
      "         -8.8367e-02,  2.4205e-02,  1.2081e-01,  1.3947e-01,  1.4855e-01,\n",
      "          1.1490e-01,  1.3101e-02,  5.1620e-02, -1.2417e-01, -2.8578e-02],\n",
      "        [ 5.0825e-05,  1.5736e-01, -8.0041e-02, -7.5431e-02,  1.2162e-01,\n",
      "         -2.3096e-01, -1.5320e-01,  3.7646e-02,  1.2472e-01, -4.6155e-02,\n",
      "          8.6329e-02,  2.4460e-01,  3.4229e-02,  3.8594e-02,  4.7083e-02,\n",
      "          4.2002e-02, -1.4075e-01,  1.4972e-01, -1.9764e-01,  3.4536e-01,\n",
      "          4.5257e-02, -1.3401e-01,  3.1105e-02, -8.6309e-02, -1.1799e-01,\n",
      "          5.6552e-02, -1.1177e-01,  1.7188e-01, -3.4720e-02, -1.7526e-01],\n",
      "        [ 5.3284e-01,  5.7297e-01, -5.2460e-01,  5.7467e-01,  5.6556e-01,\n",
      "         -5.3564e-01,  5.3151e-01,  5.5135e-01, -5.7590e-01, -3.4405e-01,\n",
      "          6.2402e-01, -4.7319e-01, -4.5343e-01, -3.9491e-01,  4.5995e-01,\n",
      "          5.9405e-01, -4.6061e-01,  4.1327e-01, -4.1468e-01,  4.1491e-01,\n",
      "          3.5267e-01, -4.7591e-01, -4.7392e-01, -4.5619e-01, -3.9536e-01,\n",
      "          3.8854e-01, -4.0316e-01, -3.6864e-01, -4.2947e-01,  5.2387e-01],\n",
      "        [ 4.0140e-02, -1.6257e-01,  4.1837e-02, -2.6513e-01, -1.9293e-01,\n",
      "          2.3338e-01, -8.8524e-02, -1.1321e-01,  1.9407e-01,  1.3331e-01,\n",
      "         -2.1969e-02,  3.9813e-02, -1.6293e-01,  4.2741e-02,  9.6710e-03,\n",
      "         -1.8953e-02,  1.2975e-01,  2.3329e-02,  9.7678e-02, -1.0705e-01,\n",
      "         -2.0308e-01, -1.3156e-02, -4.3515e-02,  4.3541e-02,  1.6065e-01,\n",
      "          9.1228e-02, -6.6503e-02,  1.5304e-01, -3.9374e-02,  1.2238e-02],\n",
      "        [ 1.5836e-02,  1.5596e-02, -2.2254e-01,  1.5086e-01, -8.5367e-02,\n",
      "          1.1892e-01,  1.7045e-01, -2.3856e-01, -1.3727e-04,  3.3004e-02,\n",
      "          4.5695e-02,  3.1251e-02,  1.3217e-01,  1.8305e-01,  9.0344e-03,\n",
      "          8.7510e-02, -2.0600e-02, -1.9839e-01, -1.5798e-01, -5.4880e-02,\n",
      "          2.3566e-01,  1.2613e-01, -4.2571e-02,  2.5267e-01,  1.1929e-01,\n",
      "          9.9985e-02, -1.9785e-01,  2.7189e-01,  2.3582e-02, -2.5873e-01],\n",
      "        [ 7.1340e-02,  2.8530e-01, -2.4898e-01,  1.4892e-01,  3.5333e-01,\n",
      "         -4.7348e-02,  7.7393e-02,  5.0995e-02,  8.1415e-02, -1.6564e-01,\n",
      "          1.1561e-01, -4.7547e-02,  4.9289e-02,  1.6170e-01, -6.7918e-02,\n",
      "          4.2951e-02, -3.1606e-01,  1.0569e-01, -8.9626e-02,  2.7329e-01,\n",
      "          1.3793e-01, -7.5363e-02,  1.1780e-01, -1.4396e-01, -1.6860e-01,\n",
      "          1.0461e-01, -8.1812e-02, -2.8624e-02,  1.2857e-01, -1.6215e-01],\n",
      "        [ 5.3665e-02,  9.0888e-02, -1.0373e-01,  1.3579e-01,  2.6081e-02,\n",
      "          2.7858e-02, -1.3425e-01,  3.4087e-03, -2.6645e-01, -1.4819e-02,\n",
      "          7.6442e-02, -6.0509e-02, -2.2007e-01, -1.7549e-01,  2.1876e-02,\n",
      "         -5.8789e-02, -2.3682e-02,  1.9834e-01,  6.3049e-02,  1.4587e-03,\n",
      "          5.2965e-02, -1.0606e-01, -1.8225e-01,  1.8334e-02, -1.8841e-01,\n",
      "          2.5978e-01,  1.3463e-01, -7.5014e-02, -7.6387e-02,  8.8326e-02],\n",
      "        [ 3.0788e-01,  1.6947e-01, -6.9663e-02,  1.8251e-01,  1.1373e-01,\n",
      "         -2.7187e-01,  3.1103e-03, -1.3872e-01,  2.0760e-01,  1.2632e-01,\n",
      "          2.9261e-01, -1.2317e-01, -1.3294e-01, -1.0349e-01, -1.5726e-01,\n",
      "          1.9410e-02, -1.2329e-02, -1.0278e-01, -2.0963e-01,  1.9823e-01,\n",
      "          3.0699e-02,  1.2545e-01,  1.5911e-01,  1.5680e-01,  5.9309e-02,\n",
      "         -1.5346e-01,  1.8194e-02,  2.0459e-01, -1.3763e-01, -7.1668e-02],\n",
      "        [-5.5582e-01, -4.5672e-01,  3.8247e-01, -5.9180e-01, -5.6962e-01,\n",
      "          4.0923e-01, -5.8461e-01,  4.4096e-03,  9.1325e-02, -6.4460e-02,\n",
      "         -4.9767e-01,  2.3454e-01,  1.2162e-01,  9.9953e-02, -1.2470e-01,\n",
      "          3.8157e-02,  4.6579e-01,  8.8934e-03,  2.9945e-01, -3.7429e-01,\n",
      "         -4.0665e-01, -5.0456e-02, -3.0059e-02,  1.2780e-02, -1.4743e-02,\n",
      "         -1.9979e-02,  3.0301e-01,  1.0338e-01,  6.2345e-02, -1.2453e-01],\n",
      "        [ 1.2467e-01,  3.5607e-01, -2.0362e-01,  3.7044e-01,  4.2138e-01,\n",
      "         -5.4617e-01,  4.1488e-01, -2.1205e-02,  9.4130e-02,  3.5193e-01,\n",
      "          3.1344e-01, -1.7075e-01,  1.3318e-01, -6.1064e-02, -1.8237e-02,\n",
      "         -5.5311e-02, -5.1704e-01, -6.5165e-02, -4.2242e-01,  3.9002e-01,\n",
      "          2.3463e-01, -1.1653e-03, -3.2340e-02,  2.0610e-02,  1.1007e-01,\n",
      "         -4.8382e-02, -7.6835e-02, -8.9015e-03,  5.0248e-02,  6.7516e-02]],\n",
      "       device='cuda:0')), ('fc3.bias', tensor([-0.1546, -0.0073, -0.4786,  0.0882,  0.0780, -0.1744, -0.3330, -0.1564,\n",
      "         0.1477, -0.3976], device='cuda:0')), ('fc4.weight', tensor([[-0.1124, -0.1461, -0.3559,  0.1432,  0.1772,  0.0951, -0.2828,  0.1769,\n",
      "         -0.0257, -0.0816],\n",
      "        [ 0.3814,  0.3716,  0.1893, -0.3505, -0.2107, -0.3080,  0.1984, -0.2808,\n",
      "         -0.2040,  0.1548]], device='cuda:0')), ('fc4.bias', tensor([ 0.4972, -0.3038], device='cuda:0'))])\n"
     ]
    }
   ],
   "source": [
    "#torch.cuda.empty_cache()\n",
    "\n",
    "#r=torch.randperm(len(trainingLabels))\n",
    "x_torch=torch.load(f\"{outdir}/{label}_particleTrainingData.pt\").cuda()\n",
    "y_torch=torch.load(f\"{outdir}/{label}_trainingLabels.pt\").cuda()\n",
    "m_torch=torch.load(f\"{outdir}/{label}_jetMassTrainingData.pt\").cuda()\n",
    "\n",
    "gnn = DNN(n_encoded_nodes)\n",
    "gnn.load_state_dict(torch.load('%s/DNN_%s_best.pth'%(outdir,label), map_location=torch.device('cuda')))\n",
    "gnn.eval()\n",
    "\n",
    "with torch.no_grad():\n",
    "    outputs_optimal_clr = gnn(x_torch)\n",
    "\n",
    "del x_torch\n",
    "torch.cuda.empty_cache()\n",
    "simple_model = simple_MLP(input_size=n_encoded_nodes-1)\n",
    "simple_optimizer = torch.optim.Adam(simple_model.parameters(), lr=.1) \n",
    "simple_criterion = torch.nn.BCELoss()\n",
    "\n",
    "for epoch in range(51):\n",
    "    simple_optimizer.zero_grad()\n",
    "    outputs = simple_model(outputs_optimal_clr[:,1:])\n",
    "    loss = simple_criterion(outputs,y_torch)\n",
    "    loss.backward()\n",
    "    simple_optimizer.step()\n",
    "    current_loss = float(loss.item())\n",
    "    if epoch % 10 == 1: \n",
    "        print(f\"Epoch {epoch} loss={current_loss:.5f}\")\n",
    "\n",
    "print(simple_model.state_dict())\n",
    "del simple_optimizer, loss, simple_model, simple_criterion\n",
    "torch.cuda.empty_cache()\n"
   ]
  },
  {
   "cell_type": "code",
   "execution_count": 29,
   "id": "69053458",
   "metadata": {},
   "outputs": [
    {
     "data": {
      "image/png": "[encoded data removed]",
      "text/plain": [
       "<Figure size 432x288 with 1 Axes>"
      ]
     },
     "metadata": {
      "needs_background": "light"
     },
     "output_type": "display_data"
    },
    {
     "data": {
      "image/png": "[encoded data removed]",
      "text/plain": [
       "<Figure size 432x288 with 1 Axes>"
      ]
     },
     "metadata": {
      "needs_background": "light"
     },
     "output_type": "display_data"
    },
    {
     "data": {
      "text/plain": [
       "<Figure size 432x288 with 0 Axes>"
      ]
     },
     "metadata": {},
     "output_type": "display_data"
    },
    {
     "data": {
      "image/png": "[encoded data removed]",
      "text/plain": [
       "<Figure size 432x288 with 2 Axes>"
      ]
     },
     "metadata": {
      "needs_background": "light"
     },
     "output_type": "display_data"
    },
    {
     "name": "stdout",
     "output_type": "stream",
     "text": [
      "[0.00000000e+00 0.00000000e+00 0.00000000e+00 0.00000000e+00\n",
      " 0.00000000e+00 0.00000000e+00 0.00000000e+00 0.00000000e+00\n",
      " 0.00000000e+00 0.00000000e+00 0.00000000e+00 0.00000000e+00\n",
      " 0.00000000e+00 0.00000000e+00 0.00000000e+00 0.00000000e+00\n",
      " 0.00000000e+00 0.00000000e+00 0.00000000e+00 0.00000000e+00\n",
      " 0.00000000e+00 0.00000000e+00 0.00000000e+00 0.00000000e+00\n",
      " 0.00000000e+00 0.00000000e+00 0.00000000e+00 0.00000000e+00\n",
      " 0.00000000e+00 0.00000000e+00 0.00000000e+00 0.00000000e+00\n",
      " 0.00000000e+00 0.00000000e+00 0.00000000e+00 0.00000000e+00\n",
      " 0.00000000e+00 0.00000000e+00 0.00000000e+00 5.04632102e-05\n",
      " 2.03787264e-03 3.58911172e-02 1.90402738e-01 2.95391447e-01\n",
      " 3.64371291e-01 4.31420077e-01 4.95002040e-01 5.47502281e-01\n",
      " 5.90628982e-01 6.30684996e-01 6.68423908e-01 7.03316694e-01\n",
      " 7.36201886e-01 7.66212358e-01 7.93958713e-01 8.19752983e-01\n",
      " 8.43461440e-01 8.65214448e-01 8.84937152e-01 9.02648898e-01\n",
      " 9.18546491e-01 9.32658528e-01 9.45122941e-01 9.55788340e-01\n",
      " 9.64953301e-01 9.72743979e-01 9.79098138e-01 9.84253796e-01\n",
      " 9.88330383e-01 9.91536479e-01 9.94015063e-01 9.95789686e-01\n",
      " 9.97104253e-01 9.98063895e-01 9.98747671e-01 9.99193430e-01\n",
      " 9.99523123e-01 9.99707313e-01 9.99825061e-01 9.99910007e-01\n",
      " 9.99955424e-01 9.99979815e-01 9.99991589e-01 9.99995795e-01\n",
      " 9.99999159e-01 9.99999159e-01 1.00000000e+00 1.00000000e+00\n",
      " 1.00000000e+00 1.00000000e+00 1.00000000e+00 1.00000000e+00\n",
      " 1.00000000e+00 1.00000000e+00 1.00000000e+00 1.00000000e+00\n",
      " 1.00000000e+00 1.00000000e+00 1.00000000e+00]\n"
     ]
    },
    {
     "name": "stderr",
     "output_type": "stream",
     "text": [
      "/uscms_data/d3/jkrupa/flat/mambaforge/envs/IN/lib/python3.10/site-packages/scipy-1.9.0-py3.10-linux-x86_64.egg/scipy/spatial/distance.py:1297: RuntimeWarning: invalid value encountered in sqrt\n",
      "  return np.sqrt(js / 2.0)\n"
     ]
    },
    {
     "data": {
      "image/png": "[encoded data removed]",
      "text/plain": [
       "<Figure size 432x288 with 1 Axes>"
      ]
     },
     "metadata": {
      "needs_background": "light"
     },
     "output_type": "display_data"
    },
    {
     "name": "stderr",
     "output_type": "stream",
     "text": [
      "WARNING:matplotlib.legend:No artists with labels found to put in legend.  Note that artists whose label start with an underscore are ignored when legend() is called with no argument.\n"
     ]
    },
    {
     "name": "stdout",
     "output_type": "stream",
     "text": [
      "[ 0 43 47 51 59 63 69]\n"
     ]
    },
    {
     "data": {
      "text/plain": [
       "<Figure size 432x288 with 0 Axes>"
      ]
     },
     "metadata": {},
     "output_type": "display_data"
    },
    {
     "data": {
      "image/png": "[encoded data removed]",
      "text/plain": [
       "<Figure size 432x288 with 1 Axes>"
      ]
     },
     "metadata": {
      "needs_background": "light"
     },
     "output_type": "display_data"
    }
   ],
   "source": [
    "from sklearn.metrics import roc_curve, roc_auc_score, accuracy_score\n",
    "\n",
    "outputs = outputs.cpu().detach().numpy()\n",
    "y_torch = y_torch.cpu().detach().numpy()\n",
    "m_torch = m_torch.cpu().detach().numpy()\n",
    "\n",
    "fig, ax=plt.subplots()\n",
    "ax.hist(outputs[y_torch[:,1]==1][:,0],color=\"r\",bins=np.linspace(0.,1.,25),alpha=0.5,label=\"QCD\")\n",
    "ax.hist(outputs[y_torch[:,1]==0][:,0],color=\"b\",bins=np.linspace(0.,1.,25),alpha=0.5,label=\"Z'\")\n",
    "plt.legend(loc=\"best\")\n",
    "ax.set_xlabel(\"Discriminator\")\n",
    "ax.set_ylabel(\"Counts\")\n",
    "ax.text(0.45,1.03,loss_text, transform=ax.transAxes)\n",
    "plt.savefig(outdir+\"/discriminatorHist.png\")\n",
    "plt.show()\n",
    "\n",
    "fig, ax=plt.subplots()\n",
    "#print(outputs[:,0].cpu().detach().numpy(),y_torch[:,0].cpu().detach().numpy().astype(bool))\n",
    "fpr, tpr, _ = roc_curve(y_torch[:,0],outputs[:,0])\n",
    "ax.plot(fpr, tpr)\n",
    "ax.set_xlabel(\"False Positive Rate\")\n",
    "ax.set_ylabel(\"True Positive Rate\")\n",
    "ax.text(0.45,1.03,loss_text, transform=ax.transAxes)\n",
    "ax.text(0.75,0.10, f\"AUC={roc_auc_score(y_torch[:,0],outputs[:,0]) : 0.2f}\", transform=ax.transAxes)\n",
    "plt.savefig(outdir+\"/roc.png\")\n",
    "plt.show()\n",
    "plt.clf()\n",
    "\n",
    "# Calculate mass distribution after cuts\n",
    "\n",
    "\n",
    "hist, edges = np.histogram(outputs[y_torch[:,1]==1][:,1], bins=np.linspace(0.,1.,100),density=True)\n",
    "fig,ax=plt.subplots(2,1)\n",
    "ax[0].hist(outputs[y_torch[:,1]==1][:,1],bins=40)\n",
    "ax[0].set_xlabel(\"Discriminator\")\n",
    "ax[1].hist(m_torch[y_torch[:,1]==1], bins=40)\n",
    "ax[1].set_xlabel(\"Jet mass (GeV)\")\n",
    "plt.show()\n",
    "cdf = np.cumsum(hist)*(edges[1]-edges[0])\n",
    "print(cdf)\n",
    "\n",
    "pctls = [0.,0.25,0.5,0.7,0.9,0.95,0.99]\n",
    "cuts = np.searchsorted(cdf,pctls)\n",
    "\n",
    "fig, ax=plt.subplots()\n",
    "\n",
    "qcd_idxs = y_torch[:,1]==1\n",
    "qcd_inclusive, _ = np.histogram(\n",
    "        m_torch[(qcd_idxs)],\n",
    "        density=True,\n",
    "    )\n",
    "for c,p in zip(cuts,pctls):\n",
    "    passing_idxs = outputs[:,1] > edges[c]\n",
    "    hist, bin_edges = np.histogram(\n",
    "        m_torch[(qcd_idxs&passing_idxs)], \n",
    "    )\n",
    "    N_passing = float(np.sum(hist))\n",
    "    qcd_passing = np.divide(hist,[N_passing])\n",
    "    jsd = scipy.spatial.distance.jensenshannon(qcd_passing, qcd_inclusive)\n",
    "\n",
    "    bins_centers = 0.5*(bin_edges[1:]+bin_edges[:-1])\n",
    "    ax.plot(\n",
    "        bins_centers, \n",
    "        qcd_passing,\n",
    "        label = f\"{(1-p)*100:.0f}% ({int(N_passing)}) JSD={0. if jsd == np.nan else jsd:.2f}\"\n",
    "    )\n",
    "ax.set_xlabel(\"Jet mass (GeV)\")\n",
    "ax.set_ylabel(\"a.u.\")\n",
    "plt.legend(loc=\"best\")\n",
    "ax.text(0.05,1.03,\"QCD jets\", transform=ax.transAxes)\n",
    "ax.text(0.45,1.03,loss_text, transform=ax.transAxes)\n",
    "plt.savefig(outdir+\"/sculptingQCD.png\")\n",
    "plt.show()\n",
    "print(cuts)\n",
    "\n",
    "plt.clf()\n",
    "fig, ax=plt.subplots()\n",
    "ax.hist2d(outputs[y_torch[:,1]==1][:,0],m_torch[y_torch[:,1]==1],bins=20)\n",
    "#ax.plot(m_torch.cpu().detach().numpy(),outputs[:,1].cpu().detach().numpy(),color=\"b\",label=\"Z'\")\n",
    "plt.legend(loc=\"best\")\n",
    "ax.set_ylabel(\"Jet mass (GeV)\")\n",
    "ax.set_xlabel(\"Discriminator\")\n",
    "ax.text(0.05,1.03,\"QCD jets\", transform=ax.transAxes)\n",
    "ax.text(0.45,1.03,loss_text, transform=ax.transAxes)\n",
    "plt.savefig(outdir+\"/discriminatorvsMassQCD.png\")\n",
    "plt.show()\n",
    "\n",
    "del y_torch, m_torch, outputs, outputs_optimal_clr\n",
    "torch.cuda.empty_cache()"
   ]
  },
  {
   "cell_type": "code",
   "execution_count": 30,
   "id": "07d5a94b",
   "metadata": {},
   "outputs": [],
   "source": [
    "#os.system(f\"rm {outdir}/{label}_particleTrainingData.pt\")\n",
    "#os.system(f\"rm {outdir}/{label}_jetMassTrainingData.pt\")\n",
    "#os.system(f\"rm {outdir}/{label}_trainingLabels.pt\")"
   ]
  },
  {
   "cell_type": "code",
   "execution_count": null,
   "id": "ce6108ab",
   "metadata": {},
   "outputs": [],
   "source": []
  }
 ],
 "metadata": {
  "kernelspec": {
   "display_name": "Python 3",
   "language": "python",
   "name": "python3"
  },
  "language_info": {
   "codemirror_mode": {
    "name": "ipython",
    "version": 3
   },
   "file_extension": ".py",
   "mimetype": "text/x-python",
   "name": "python",
   "nbconvert_exporter": "python",
   "pygments_lexer": "ipython3",
   "version": "3.10.5"
  }
 },
 "nbformat": 4,
 "nbformat_minor": 5
}
