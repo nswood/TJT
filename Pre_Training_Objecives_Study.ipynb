{
 "cells": [
  {
   "cell_type": "code",
   "execution_count": 1,
   "id": "95524729",
   "metadata": {},
   "outputs": [],
   "source": [
    "# Imports basics\n",
    "import os\n",
    "import numpy as np\n",
    "import h5py\n",
    "import json\n",
    "#import setGPU\n",
    "import sklearn\n",
    "#import corner\n",
    "import scipy\n",
    "import time\n",
    "from tqdm import tqdm \n",
    "#import utils #import *\n",
    "import sys\n",
    "import glob\n",
    "#import models\n",
    "#import losses\n",
    "# Imports neural net tools\n",
    "import itertools\n",
    "import torch\n",
    "import torch.nn as nn\n",
    "from torch.autograd.variable import *\n",
    "import torch.optim as optim\n",
    "import torch.nn.functional as F\n",
    "#from fast_soft_sort.pytorch_ops import soft_rank\n",
    "import matplotlib.pyplot as plt\n",
    "from sklearn.metrics import roc_curve, roc_auc_score, accuracy_score,  auc\n",
    "\n",
    "from sklearn.preprocessing import OneHotEncoder\n",
    "device = torch.device('cuda' if torch.cuda.is_available() else 'cpu')\n",
    "np.random.seed(42)\n"
   ]
  },
  {
   "cell_type": "code",
   "execution_count": 7,
   "id": "321ac71a",
   "metadata": {},
   "outputs": [],
   "source": [
    "a = torch.rand(10,100,15)\n",
    "b = torch.rand(10,5,14)"
   ]
  },
  {
   "cell_type": "code",
   "execution_count": 15,
   "id": "582bb0cc",
   "metadata": {},
   "outputs": [
    {
     "data": {
      "text/plain": [
       "torch.Size([10, 105])"
      ]
     },
     "execution_count": 15,
     "metadata": {},
     "output_type": "execute_result"
    }
   ],
   "source": []
  },
  {
   "cell_type": "code",
   "execution_count": null,
   "id": "b876a94c",
   "metadata": {},
   "outputs": [],
   "source": [
    "import matplotlib.pyplot as plt\n",
    "import numpy as np\n",
    "\n",
    "# Generate some random data\n",
    "x = np.random.randn(100)\n",
    "y = np.random.randn(100)\n",
    "labels = np.random.randint(4, size=100)\n",
    "\n",
    "# Create a scatter plot\n",
    "scatter = plt.scatter(x, y, c=labels, cmap='viridis',alpha = 0.05)\n",
    "\n",
    "# Create proxy artists for the legend\n",
    "legend_elements = [plt.Line2D([0], [0], linestyle='-', color=scatter.cmap(scatter.norm(0)), label='Label 0'),\n",
    "                   plt.Line2D([0], [0], linestyle='-', color=scatter.cmap(scatter.norm(1)), label='Label 1'),\n",
    "                   plt.Line2D([0], [0], linestyle='-', color=scatter.cmap(scatter.norm(2)), label='Label 2'),\n",
    "                   plt.Line2D([0], [0], linestyle='-', color=scatter.cmap(scatter.norm(3)), label='Label 3')]\n",
    "\n",
    "# Create the legend\n",
    "plt.legend(handles=legend_elements)\n",
    "\n",
    "# Show the plot\n",
    "plt.show()\n"
   ]
  },
  {
   "cell_type": "markdown",
   "id": "8d963db2",
   "metadata": {},
   "source": [
    "# Hyperbolic embeddings"
   ]
  },
  {
   "cell_type": "code",
   "execution_count": 19,
   "id": "42aa8b6b",
   "metadata": {},
   "outputs": [],
   "source": [
    "import sys\n",
    "sys.path.append('HypJets')\n",
    "\n",
    "from HypJets.hyptorch import nn as hypnn\n",
    "from HypJets.hyptorch import pmath"
   ]
  },
  {
   "cell_type": "code",
   "execution_count": 32,
   "id": "81b43040",
   "metadata": {},
   "outputs": [],
   "source": [
    "mp = hypnn.ToPoincare(0.2)"
   ]
  },
  {
   "cell_type": "code",
   "execution_count": 43,
   "id": "ad8aeb90",
   "metadata": {},
   "outputs": [],
   "source": [
    "x = torch.rand(50,1,20)\n",
    "y = torch.randint(4,[50])"
   ]
  },
  {
   "cell_type": "code",
   "execution_count": 49,
   "id": "09b501db",
   "metadata": {},
   "outputs": [
    {
     "data": {
      "text/plain": [
       "tensor(6.5931)"
      ]
     },
     "execution_count": 49,
     "metadata": {},
     "output_type": "execute_result"
    }
   ],
   "source": [
    "forward2(mp(x),y)"
   ]
  },
  {
   "cell_type": "code",
   "execution_count": 46,
   "id": "1c965183",
   "metadata": {},
   "outputs": [],
   "source": [
    "features = mp(x)\n",
    "labels = y\n",
    "mask=None\n",
    "batch_size = features.shape[0]\n",
    "if labels is not None and mask is not None:\n",
    "    raise ValueError('Cannot define both `labels` and `mask`')\n",
    "elif labels is None and mask is None:\n",
    "    mask = torch.eye(batch_size, dtype=torch.float32).to(device)\n",
    "elif labels is not None:\n",
    "    labels = labels.contiguous().view(-1, 1)\n",
    "    if labels.shape[0] != batch_size:\n",
    "        raise ValueError('Num of labels does not match num of features')\n",
    "    mask = torch.eq(labels, labels.T).float().to(device)\n",
    "else:\n",
    "    mask = mask.float().to(device)\n",
    "\n",
    "contrast_count = features.shape[1]\n",
    "contrast_feature = torch.cat(torch.unbind(features, dim=1), dim=0)\n",
    "\n",
    "anchor_feature = contrast_feature\n",
    "anchor_count = contrast_count"
   ]
  },
  {
   "cell_type": "code",
   "execution_count": 10,
   "id": "e148f387",
   "metadata": {},
   "outputs": [],
   "source": [
    "import torch.nn.functional as F"
   ]
  },
  {
   "cell_type": "code",
   "execution_count": 29,
   "id": "6e3a5abe",
   "metadata": {},
   "outputs": [],
   "source": [
    "def Hyperbolic_contrastive_loss(x_i, x_j, temperature=0.1,c = 0.2):\n",
    "    xdevice = 'cpu'\n",
    "    batch_size = x_i.shape[0]\n",
    "    z_i = F.normalize( x_i, dim=1 )\n",
    "    z_j = F.normalize( x_j, dim=1 )\n",
    "    z.unsqueeze(1), z.unsqueeze(0)\n",
    "    similarity_matrix = torch.squeeze(pmath.mobius_matvec(z.unsqueeze(1), z.unsqueeze(0),c=c),dim=2)\n",
    "    sim_ij = torch.diag( similarity_matrix,  batch_size )\n",
    "    sim_ji = torch.diag( similarity_matrix, -batch_size )\n",
    "    positives = torch.cat( [sim_ij, sim_ji], dim=0 )\n",
    "    nominator = torch.exp( positives / temperature )\n",
    "    negatives_mask = ( ~torch.eye( 2*batch_size, 2*batch_size, dtype=bool ) ).float()\n",
    "    negatives_mask = negatives_mask.to( xdevice )\n",
    "    denominator = negatives_mask * torch.exp( similarity_matrix / temperature )\n",
    "    #print(nominator, denominator)\n",
    "    loss_partial = -torch.log( nominator / torch.sum( denominator, dim=1 ) )\n",
    "    loss = torch.sum( loss_partial )/( 2*batch_size )\n",
    "    return loss"
   ]
  },
  {
   "cell_type": "code",
   "execution_count": 15,
   "id": "4db1c728",
   "metadata": {},
   "outputs": [],
   "source": [
    "x_i = input1\n",
    "x_j = input2\n",
    "temperature=0.1"
   ]
  },
  {
   "cell_type": "code",
   "execution_count": 17,
   "id": "373b73f9",
   "metadata": {},
   "outputs": [],
   "source": [
    "batch_size = x_i.shape[0]\n",
    "z_i = F.normalize( x_i, dim=1 )\n",
    "z_j = F.normalize( x_j, dim=1 )\n",
    "z   = torch.cat( [z_i, z_j], dim=0 )"
   ]
  },
  {
   "cell_type": "code",
   "execution_count": 26,
   "id": "f638fc63",
   "metadata": {},
   "outputs": [
    {
     "data": {
      "text/plain": [
       "torch.Size([200, 200])"
      ]
     },
     "execution_count": 26,
     "metadata": {},
     "output_type": "execute_result"
    }
   ],
   "source": []
  },
  {
   "cell_type": "code",
   "execution_count": 24,
   "id": "7f045563",
   "metadata": {},
   "outputs": [
    {
     "data": {
      "text/plain": [
       "torch.Size([200, 200])"
      ]
     },
     "execution_count": 24,
     "metadata": {},
     "output_type": "execute_result"
    }
   ],
   "source": [
    " F.cosine_similarity( z.unsqueeze(1), z.unsqueeze(0), dim=2 ).shape"
   ]
  },
  {
   "cell_type": "code",
   "execution_count": 1,
   "id": "db24b459",
   "metadata": {},
   "outputs": [],
   "source": [
    "import torch"
   ]
  },
  {
   "cell_type": "code",
   "execution_count": 4,
   "id": "2ffc6145",
   "metadata": {},
   "outputs": [],
   "source": [
    "import sys\n",
    "sys.path.append('HypJets')\n",
    "\n",
    "from HypJets.hyptorch import nn as hypnn\n",
    "from HypJets.hyptorch import pmath"
   ]
  },
  {
   "cell_type": "code",
   "execution_count": 30,
   "id": "08739bb8",
   "metadata": {},
   "outputs": [
    {
     "data": {
      "text/plain": [
       "tensor(10.4789)"
      ]
     },
     "execution_count": 30,
     "metadata": {},
     "output_type": "execute_result"
    }
   ],
   "source": [
    "Hyperbolic_contrastive_loss(input1,input2)"
   ]
  },
  {
   "cell_type": "code",
   "execution_count": 6,
   "id": "d8562606",
   "metadata": {},
   "outputs": [
    {
     "name": "stdout",
     "output_type": "stream",
     "text": [
      "tensor([ 0.0417, -0.0250, -0.1302, -0.1460, -0.0858,  0.0832, -0.0261,  0.0836,\n",
      "        -0.0109,  0.0150, -0.1221,  0.0255,  0.0452,  0.0030,  0.0408, -0.0168,\n",
      "        -0.0708, -0.1193,  0.1164,  0.0592,  0.1107,  0.0976,  0.1572, -0.0515,\n",
      "        -0.1664,  0.1130,  0.0383, -0.0172,  0.0517,  0.0949,  0.1564,  0.0536,\n",
      "         0.0508,  0.0100,  0.0284, -0.0925,  0.0352, -0.0058, -0.0155,  0.1806,\n",
      "         0.0728,  0.0032, -0.0537, -0.0646,  0.0733,  0.1615,  0.0544,  0.0318,\n",
      "         0.0183,  0.1876,  0.0349, -0.1079,  0.0714,  0.0547, -0.0503,  0.0089,\n",
      "        -0.0221, -0.0229,  0.0838,  0.1339, -0.0077,  0.0070, -0.0184,  0.0141,\n",
      "         0.0525, -0.0807, -0.0347,  0.0439, -0.1336, -0.0606,  0.0702, -0.0113,\n",
      "         0.0565,  0.0712,  0.1531,  0.0117, -0.0358, -0.1421, -0.1513,  0.1726,\n",
      "         0.0212,  0.0261,  0.0179, -0.0297, -0.0119, -0.0752,  0.0075,  0.1383,\n",
      "        -0.1609, -0.1490,  0.0865, -0.2060, -0.0911, -0.0882, -0.1624,  0.1252,\n",
      "        -0.1989, -0.1241, -0.0356, -0.0224])\n"
     ]
    }
   ],
   "source": [
    "input1 = torch.randn(100, 128)\n",
    "input2 = torch.randn(100, 128)\n",
    "output = torch.nn.functional.cosine_similarity(input1, input2)\n",
    "print(output)"
   ]
  },
  {
   "cell_type": "code",
   "execution_count": 3,
   "id": "2404f3d7",
   "metadata": {},
   "outputs": [
    {
     "ename": "NameError",
     "evalue": "name 'pmath' is not defined",
     "output_type": "error",
     "traceback": [
      "\u001b[0;31m---------------------------------------------------------------------------\u001b[0m",
      "\u001b[0;31mNameError\u001b[0m                                 Traceback (most recent call last)",
      "Input \u001b[0;32mIn [3]\u001b[0m, in \u001b[0;36m<cell line: 2>\u001b[0;34m()\u001b[0m\n\u001b[1;32m      1\u001b[0m \u001b[38;5;66;03m# compute logits\u001b[39;00m\n\u001b[1;32m      2\u001b[0m anchor_dot_contrast \u001b[38;5;241m=\u001b[39m torch\u001b[38;5;241m.\u001b[39mdiv(\n\u001b[0;32m----> 3\u001b[0m     \u001b[43mpmath\u001b[49m\u001b[38;5;241m.\u001b[39mmobius_matvec(anchor_feature, contrast_feature,c\u001b[38;5;241m=\u001b[39m\u001b[38;5;241m0.2\u001b[39m),\n\u001b[1;32m      4\u001b[0m     \u001b[38;5;241m0.1\u001b[39m)\n",
      "\u001b[0;31mNameError\u001b[0m: name 'pmath' is not defined"
     ]
    }
   ],
   "source": [
    "# compute logits\n",
    "anchor_dot_contrast = torch.div(\n",
    "    pmath.mobius_matvec(anchor_feature, contrast_feature,c=0.2),\n",
    "    0.1)"
   ]
  },
  {
   "cell_type": "code",
   "execution_count": null,
   "id": "a3d3a6ad",
   "metadata": {},
   "outputs": [],
   "source": []
  },
  {
   "cell_type": "code",
   "execution_count": 58,
   "id": "868dc83e",
   "metadata": {},
   "outputs": [],
   "source": [
    "# for numerical stability\n",
    "logits_max, _ = torch.max(anchor_dot_contrast, dim=1, keepdim=True)\n",
    "logits = anchor_dot_contrast - logits_max.detach()\n",
    "\n",
    "# tile mask\n",
    "mask = mask.repeat(anchor_count, contrast_count)\n",
    "# mask-out self-contrast cases\n",
    "logits_mask = torch.scatter(\n",
    "    torch.ones_like(mask),\n",
    "    1,\n",
    "    torch.arange(batch_size * anchor_count).view(-1, 1).to(device),\n",
    "    0\n",
    ")\n",
    "mask = mask * logits_mask\n",
    "\n",
    "# compute log_prob\n",
    "exp_logits = torch.exp(logits) * logits_mask\n",
    "log_prob = logits - torch.log(exp_logits.sum(1, keepdim=True))\n",
    "\n",
    "# compute mean of log-likelihood over positive\n",
    "mean_log_prob_pos = (mask * log_prob).sum(1) / mask.sum(1)\n",
    "#print((mask*log_prob).sum(1))\n",
    "# loss\n",
    "loss = - (0.1 / 0.1) * mean_log_prob_pos\n",
    "loss = loss.view(anchor_count, batch_size).mean()"
   ]
  },
  {
   "cell_type": "code",
   "execution_count": 47,
   "id": "4dc5627f",
   "metadata": {},
   "outputs": [],
   "source": [
    "def forward2(features, labels=None, mask=None):\n",
    "        \"\"\"Compute loss for model. If both `labels` and `mask` are None,\n",
    "        it degenerates to SimCLR unsupervised loss:\n",
    "        https://arxiv.org/pdf/2002.05709.pdf\n",
    "        Args:\n",
    "            features: hidden vector of shape [bsz, n_views, ...].\n",
    "            labels: ground truth of shape [bsz].\n",
    "            mask: contrastive mask of shape [bsz, bsz], mask_{i,j}=1 if sample j\n",
    "                has the same class as sample i. Can be asymmetric.\n",
    "        Returns:\n",
    "            A loss scalar.\n",
    "        \"\"\"\n",
    "        device = (torch.device('cuda')\n",
    "                  if features.is_cuda\n",
    "                  else torch.device('cpu'))\n",
    "\n",
    "        if len(features.shape) < 3:\n",
    "            raise ValueError('`features` needs to be [bsz, n_views, ...],'\n",
    "                             'at least 3 dimensions are required')\n",
    "        if len(features.shape) > 3:\n",
    "            features = features.view(features.shape[0], features.shape[1], -1)\n",
    "\n",
    "        batch_size = features.shape[0]\n",
    "        if labels is not None and mask is not None:\n",
    "            raise ValueError('Cannot define both `labels` and `mask`')\n",
    "        elif labels is None and mask is None:\n",
    "            mask = torch.eye(batch_size, dtype=torch.float32).to(device)\n",
    "        elif labels is not None:\n",
    "            labels = labels.contiguous().view(-1, 1)\n",
    "            if labels.shape[0] != batch_size:\n",
    "                raise ValueError('Num of labels does not match num of features')\n",
    "            mask = torch.eq(labels, labels.T).float().to(device)\n",
    "        else:\n",
    "            mask = mask.float().to(device)\n",
    "\n",
    "        contrast_count = features.shape[1]\n",
    "        contrast_feature = torch.cat(torch.unbind(features, dim=1), dim=0)\n",
    "        \n",
    "        anchor_feature = contrast_feature\n",
    "        anchor_count = contrast_count\n",
    "        \n",
    "\n",
    "        # compute logits\n",
    "        anchor_dot_contrast = torch.div(\n",
    "            torch.matmul(anchor_feature, contrast_feature.T),\n",
    "            0.1)\n",
    "        \n",
    "        # for numerical stability\n",
    "        logits_max, _ = torch.max(anchor_dot_contrast, dim=1, keepdim=True)\n",
    "        logits = anchor_dot_contrast - logits_max.detach()\n",
    "        \n",
    "        # tile mask\n",
    "        mask = mask.repeat(anchor_count, contrast_count)\n",
    "        # mask-out self-contrast cases\n",
    "        logits_mask = torch.scatter(\n",
    "            torch.ones_like(mask),\n",
    "            1,\n",
    "            torch.arange(batch_size * anchor_count).view(-1, 1).to(device),\n",
    "            0\n",
    "        )\n",
    "        mask = mask * logits_mask\n",
    "\n",
    "        # compute log_prob\n",
    "        exp_logits = torch.exp(logits) * logits_mask\n",
    "        log_prob = logits - torch.log(exp_logits.sum(1, keepdim=True))\n",
    "        \n",
    "        # compute mean of log-likelihood over positive\n",
    "        mean_log_prob_pos = (mask * log_prob).sum(1) / mask.sum(1)\n",
    "        #print((mask*log_prob).sum(1))\n",
    "        # loss\n",
    "        loss = - (0.1 / 0.1) * mean_log_prob_pos\n",
    "        loss = loss.view(anchor_count, batch_size).mean()\n",
    "        return loss"
   ]
  },
  {
   "cell_type": "code",
   "execution_count": null,
   "id": "c90add72",
   "metadata": {},
   "outputs": [],
   "source": [
    "# -*- coding: utf-8 -*-\n",
    "\"\"\"Demo to overlay multiple corners on top of each other\"\"\"\n",
    "import corner\n",
    "import matplotlib.lines as mlines\n",
    "import matplotlib.pyplot as plt\n",
    "import numpy as np\n",
    "\n",
    "CORNER_KWARGS = dict(\n",
    "    smooth=0.9,\n",
    "    label_kwargs=dict(fontsize=16),\n",
    "    title_kwargs=dict(fontsize=16),\n",
    "    quantiles=[0.16, 0.84],\n",
    "    levels=(1 - np.exp(-0.5), 1 - np.exp(-2), 1 - np.exp(-9 / 2.)),\n",
    "    plot_density=False,\n",
    "    plot_datapoints=False,\n",
    "    fill_contours=True,\n",
    "    show_titles=True,\n",
    "    max_n_ticks=3,\n",
    ")\n",
    "\n",
    "\n",
    "def overlaid_corner(samples_list, sample_labels):\n",
    "    \"\"\"Plots multiple corners on top of each other\"\"\"\n",
    "    # get some constants\n",
    "    n = len(samples_list)\n",
    "    _, ndim = samples_list[0].shape\n",
    "    max_len = max([len(s) for s in samples_list])\n",
    "    cmap = plt.cm.get_cmap('gist_rainbow', n)\n",
    "    colors = [cmap(i) for i in range(n)]\n",
    "\n",
    "    plot_range = []\n",
    "    for dim in range(ndim):\n",
    "        plot_range.append(\n",
    "            [\n",
    "                min([min(samples_list[i].T[dim]) for i in range(n)]),\n",
    "                max([max(samples_list[i].T[dim]) for i in range(n)]),\n",
    "            ]\n",
    "        )\n",
    "\n",
    "    CORNER_KWARGS.update(range=plot_range)\n",
    "\n",
    "    fig = corner.corner(\n",
    "        samples_list[0],\n",
    "        color=colors[0],\n",
    "        **CORNER_KWARGS\n",
    "    )\n",
    "\n",
    "    for idx in range(1, n):\n",
    "        fig = corner.corner(\n",
    "            samples_list[idx],\n",
    "            fig=fig,\n",
    "            weights=get_normalisation_weight(len(samples_list[idx]), max_len),\n",
    "            color=colors[idx],\n",
    "            **CORNER_KWARGS\n",
    "        )\n",
    "\n",
    "    plt.legend(\n",
    "        handles=[\n",
    "            mlines.Line2D([], [], color=colors[i], label=sample_labels[i])\n",
    "            for i in range(n)\n",
    "        ],\n",
    "        fontsize=20, frameon=False,\n",
    "        bbox_to_anchor=(1, ndim), loc=\"upper right\"\n",
    "    )\n",
    "    plt.plot()\n",
    "#     plt.savefig(\"corner.png\")\n",
    "#     plt.close()\n",
    "\n",
    "\n",
    "def get_normalisation_weight(len_current_samples, len_of_longest_samples):\n",
    "    return np.ones(len_current_samples) * (len_of_longest_samples / len_current_samples)\n",
    "\n",
    "\n",
    "def main():\n",
    "    ndim, nsamples = 3, 10000\n",
    "    samples = np.random.randn(ndim * nsamples).reshape([nsamples, ndim])\n",
    "\n",
    "    overlaid_corner(\n",
    "        [samples * 3, samples * 2, samples],\n",
    "        [\"samples x 3\", \"samples x 2\", \"samples\"]\n",
    "    )\n",
    "\n",
    "\n",
    "\n"
   ]
  },
  {
   "cell_type": "code",
   "execution_count": 2,
   "id": "93d92eac",
   "metadata": {
    "scrolled": true
   },
   "outputs": [],
   "source": [
    "a = torch.load('100k_jet_f')\n",
    "b = torch.load('100k_l')\n",
    "c = torch.load('100k_x_sv')\n",
    "d = torch.load('100k_x_pf')"
   ]
  },
  {
   "cell_type": "code",
   "execution_count": 45,
   "id": "4c48d284",
   "metadata": {},
   "outputs": [],
   "source": [
    "# QCD_mask = torch.all(b==torch.tensor([0., 0., 0., 1.]),dim=1)"
   ]
  },
  {
   "cell_type": "code",
   "execution_count": 211,
   "id": "280f0935",
   "metadata": {},
   "outputs": [],
   "source": [
    "qcd_pt = a[:,0]\n",
    "qcd_min,qcd_max = qcd_pt.min(),qcd_pt.max()\n",
    "adj_min = qcd_min-qcd_min % 50 \n",
    "adj_max = qcd_max+(50-qcd_max %50)\n",
    "bins =np.linspace(adj_min,adj_max ,int((adj_max-adj_min)/50)+1)\n",
    "counts, bins = np.histogram(qcd_pt, bins = bins)\n",
    "weights = np.max(counts)/counts\n",
    "for i in range(len(weights)):\n",
    "        if weights[i] < 0.2:\n",
    "            weights[i] = 0.2\n",
    "        elif weights[i] > 10:\n",
    "            weights[i] = 10\n",
    "def get_weight(val,weight,adj_min):\n",
    "    return weight[int((val-adj_min - (val % 50))/50)]"
   ]
  },
  {
   "cell_type": "code",
   "execution_count": 213,
   "id": "a30ead04",
   "metadata": {},
   "outputs": [],
   "source": [
    "qcd_pt = a[:,0]\n",
    "qcd_min,qcd_max = qcd_pt.min(),qcd_pt.max()\n",
    "adj_min = qcd_min-qcd_min % 50 \n",
    "adj_max = qcd_max+(50-qcd_max %50)\n",
    "bins =np.linspace(adj_min,adj_max ,int((adj_max-adj_min)/50)+1)\n",
    "counts, bins = np.histogram(qcd_pt, bins = bins)\n",
    "weights = np.max(counts)/counts\n",
    "for i in range(len(weights)):\n",
    "        if weights[i] < 0.2:\n",
    "            weights[i] = 0.2\n",
    "        elif weights[i] > 10:\n",
    "            weights[i] = 10\n",
    "\n",
    "# QCD_mask = torch.all(b==torch.tensor([0., 0., 0., 1.]),dim=1)\n",
    "def get_weight(val,weight,adj_min):\n",
    "    return weight[int((val-adj_min - (val % 50))/50)]\n",
    "def get_scaling_weights(label, data, weights,adj_min):\n",
    "    QCD_mask = torch.all(label == torch.tensor([0., 0., 0., 1.]), dim=1)\n",
    "    scaling_weights = torch.ones(data.size(0))  # Initialize all weights as 1\n",
    "    \n",
    "    for i in range(data.size(0)):\n",
    "      \n",
    "        scaling_weights[i] = get_weight(data[i], weights,adj_min)\n",
    "    \n",
    "    return scaling_weights"
   ]
  },
  {
   "cell_type": "code",
   "execution_count": 214,
   "id": "31b79e27",
   "metadata": {},
   "outputs": [],
   "source": [
    "scaling = get_scaling_weights(b,a[:,0],weights,adj_min)"
   ]
  },
  {
   "cell_type": "code",
   "execution_count": 220,
   "id": "dd95deba",
   "metadata": {
    "scrolled": true
   },
   "outputs": [
    {
     "data": {
      "image/png": "[encoded data removed]",
      "text/plain": [
       "<Figure size 360x360 with 1 Axes>"
      ]
     },
     "metadata": {
      "needs_background": "light"
     },
     "output_type": "display_data"
    }
   ],
   "source": [
    "plt.figure(figsize=(5,5))\n",
    "plt.title('Bin Weight')\n",
    "plt.stairs(weights,bins)\n",
    "plt.show()"
   ]
  },
  {
   "cell_type": "code",
   "execution_count": 219,
   "id": "d2432ece",
   "metadata": {},
   "outputs": [
    {
     "data": {
      "image/png": "[encoded data removed]",
      "text/plain": [
       "<Figure size 360x360 with 1 Axes>"
      ]
     },
     "metadata": {
      "needs_background": "light"
     },
     "output_type": "display_data"
    }
   ],
   "source": [
    "plt.figure(figsize = (5,5))\n",
    "plt.title('pT distribution of jets')\n",
    "plt.stairs(counts, bins)\n",
    "plt.show()"
   ]
  },
  {
   "cell_type": "code",
   "execution_count": 218,
   "id": "32b5da05",
   "metadata": {},
   "outputs": [
    {
     "data": {
      "image/png": "[encoded data removed]",
      "text/plain": [
       "<Figure size 360x360 with 1 Axes>"
      ]
     },
     "metadata": {
      "needs_background": "light"
     },
     "output_type": "display_data"
    }
   ],
   "source": [
    "plt.figure(figsize = (5,5))\n",
    "plt.title('scaled pT distribution of jets ')\n",
    "plt.stairs(counts*weights, bins)\n",
    "plt.show()"
   ]
  },
  {
   "cell_type": "markdown",
   "id": "e9e23095",
   "metadata": {},
   "source": [
    "# SIMCLR Loss Testing"
   ]
  },
  {
   "cell_type": "code",
   "execution_count": null,
   "id": "ee2c5629",
   "metadata": {},
   "outputs": [],
   "source": [
    "import numpy as np\n",
    "import matplotlib.pyplot as plt\n",
    "from sklearn.decomposition import PCA\n",
    "\n",
    "# Generate random N-dimensional binary-labeled data\n",
    "N = 1000  # Number of instances\n",
    "D = 10  # Number of dimensions\n",
    "labels = np.random.randint(0, 2, N)  # Binary labels\n",
    "data = np.random.randn(N, D)  # Random N-dimensional data\n",
    "\n",
    "# Apply PCA to reduce dimensionality to 2 for visualization\n",
    "pca = PCA(n_components=2)\n",
    "data_pca = pca.fit_transform(data)\n",
    "\n",
    "# Separate data points based on labels\n",
    "data_label0 = data_pca[labels == 0]\n",
    "data_label1 = data_pca[labels == 1]\n",
    "\n",
    "# Create the PCA plot\n",
    "plt.scatter(data_label0[:, 0], data_label0[:, 1], label='Label 0')\n",
    "plt.scatter(data_label1[:, 0], data_label1[:, 1], label='Label 1')\n",
    "plt.xlabel('PC1')\n",
    "plt.ylabel('PC2')\n",
    "plt.title('PCA Plot')\n",
    "plt.legend()\n",
    "plt.show()\n"
   ]
  },
  {
   "cell_type": "code",
   "execution_count": 629,
   "id": "b3a02da8",
   "metadata": {},
   "outputs": [],
   "source": [
    "ipath = '/n/holyscratch01/iaifi_lab/jkrupa/4Jul23_v0/train/raw/'"
   ]
  },
  {
   "cell_type": "code",
   "execution_count": 1,
   "id": "3c48b253",
   "metadata": {
    "scrolled": true
   },
   "outputs": [
    {
     "ename": "NameError",
     "evalue": "name 'ipath' is not defined",
     "output_type": "error",
     "traceback": [
      "\u001b[0;31m---------------------------------------------------------------------------\u001b[0m",
      "\u001b[0;31mNameError\u001b[0m                                 Traceback (most recent call last)",
      "Input \u001b[0;32mIn [1]\u001b[0m, in \u001b[0;36m<cell line: 4>\u001b[0;34m()\u001b[0m\n\u001b[1;32m      2\u001b[0m \u001b[38;5;28;01mimport\u001b[39;00m \u001b[38;5;21;01mimportlib\u001b[39;00m\n\u001b[1;32m      3\u001b[0m importlib\u001b[38;5;241m.\u001b[39mreload(dataset_loader)\n\u001b[0;32m----> 4\u001b[0m data_train \u001b[38;5;241m=\u001b[39m dataset_loader\u001b[38;5;241m.\u001b[39mzpr_loader(\u001b[43mipath\u001b[49m,maxfiles\u001b[38;5;241m=\u001b[39m\u001b[38;5;241m3\u001b[39m)\n",
      "\u001b[0;31mNameError\u001b[0m: name 'ipath' is not defined"
     ]
    }
   ],
   "source": [
    "import dataset_loader\n",
    "import importlib\n",
    "importlib.reload(dataset_loader)\n",
    "data_train = dataset_loader.zpr_loader(ipath,maxfiles=3) \n",
    "# data_val = dataset_loader.zpr_loader(vpath,maxfiles=10)"
   ]
  },
  {
   "cell_type": "code",
   "execution_count": null,
   "id": "6eb5d1af",
   "metadata": {},
   "outputs": [],
   "source": [
    "dt = data_train[0:100000]"
   ]
  },
  {
   "cell_type": "code",
   "execution_count": null,
   "id": "de55e819",
   "metadata": {},
   "outputs": [],
   "source": [
    "x_pf = dt[0]\n",
    "x_sv = dt[1]\n",
    "jet_f = dt[2]\n",
    "l = dt[3]"
   ]
  },
  {
   "cell_type": "code",
   "execution_count": null,
   "id": "164a5457",
   "metadata": {},
   "outputs": [],
   "source": [
    "torch.save(jet_f,'100k_jet_f')\n",
    "torch.save(l,'100k_l')\n",
    "torch.save(x_sv,'100k_x_sv')\n",
    "torch.save(x_pf,'100k_x_pf')"
   ]
  },
  {
   "cell_type": "markdown",
   "id": "5947480b",
   "metadata": {},
   "source": [
    "pt, pt/ptjet, eta, eta-etajet, phi, phi-phijet, d0 (impact parameter in xy direction), dz (impact parameter in z direction)\n",
    "and then the last 5 are just one-hot-encoded labels"
   ]
  },
  {
   "cell_type": "code",
   "execution_count": null,
   "id": "a58f04ce",
   "metadata": {},
   "outputs": [],
   "source": [
    "plt.hist(x_pf[:,:,0])\n",
    "plt.title(\"total pt distribution\")"
   ]
  },
  {
   "cell_type": "markdown",
   "id": "925754fb",
   "metadata": {},
   "source": [
    "## Pretraining Jet Matching"
   ]
  },
  {
   "cell_type": "code",
   "execution_count": null,
   "id": "139fc287",
   "metadata": {},
   "outputs": [],
   "source": [
    "loader = gen_matched_data(data_train, 2000)"
   ]
  },
  {
   "cell_type": "code",
   "execution_count": null,
   "id": "786babef",
   "metadata": {},
   "outputs": [],
   "source": [
    "loader = gen_matched_simple_data(data_train, 2000)"
   ]
  },
  {
   "cell_type": "code",
   "execution_count": null,
   "id": "3b84a4c1",
   "metadata": {
    "scrolled": false
   },
   "outputs": [],
   "source": [
    "for istep, (matched_x_pf, matched_x_sv, matched_jet_features, matching_label) in enumerate(tqdm(loader)):\n",
    "    print(matched_x_pf.size(), matched_x_sv.size(), matched_jet_features.size(), matching_label.size())\n",
    "    break"
   ]
  },
  {
   "cell_type": "code",
   "execution_count": null,
   "id": "61de2636",
   "metadata": {},
   "outputs": [],
   "source": [
    "arr[3].size()"
   ]
  },
  {
   "cell_type": "code",
   "execution_count": null,
   "id": "7e348152",
   "metadata": {},
   "outputs": [],
   "source": [
    "for istep, (arr) in enumerate(tqdm(loader)):\n",
    "    break\n",
    "    \n",
    "    "
   ]
  },
  {
   "cell_type": "markdown",
   "id": "bfe37b82",
   "metadata": {},
   "source": [
    "## Pretraining KNN Masking"
   ]
  },
  {
   "cell_type": "code",
   "execution_count": null,
   "id": "3b1837e1",
   "metadata": {},
   "outputs": [],
   "source": [
    "from torch.utils.data import DataLoader\n",
    "train_loader = DataLoader(data_train, batch_size=20,shuffle=True,multiprocessing_context='spawn',num_workers=16)#,pin_memory=True)\n",
    "val_loader = DataLoader(data_val, batch_size=20,shuffle=True,multiprocessing_context='spawn',num_workers=16)#,pin_memory=True)"
   ]
  },
  {
   "cell_type": "code",
   "execution_count": null,
   "id": "64e9db37",
   "metadata": {},
   "outputs": [],
   "source": [
    "ex = data_train[0]"
   ]
  },
  {
   "cell_type": "code",
   "execution_count": null,
   "id": "28993abe",
   "metadata": {},
   "outputs": [],
   "source": [
    "batched_dt = next(iter(train_loader))"
   ]
  },
  {
   "cell_type": "code",
   "execution_count": null,
   "id": "5f9ce84c",
   "metadata": {},
   "outputs": [],
   "source": [
    "ex_jet =batched_dt[0][0]\n"
   ]
  },
  {
   "cell_type": "code",
   "execution_count": null,
   "id": "4d12c597",
   "metadata": {
    "scrolled": true
   },
   "outputs": [],
   "source": [
    "ex_jet[0]"
   ]
  },
  {
   "cell_type": "code",
   "execution_count": null,
   "id": "06b1da1c",
   "metadata": {},
   "outputs": [],
   "source": [
    "for i in range(ex_jet.shape[1]):\n",
    "    plt.figure()\n",
    "    plt.title(f'Jet Feature {i}')\n",
    "    plt.hist(ex_jet[:,i])\n",
    "    plt.show()"
   ]
  },
  {
   "cell_type": "code",
   "execution_count": null,
   "id": "8a49f78d",
   "metadata": {},
   "outputs": [],
   "source": [
    "index = np.random.randint(100)\n",
    "k = 9\n",
    "from sklearn.neighbors import NearestNeighbors\n",
    "\n",
    "  # Number of neighbors to consider\n",
    "knn = NearestNeighbors(n_neighbors=k)\n",
    "\n",
    "knn.fit(np.array(ex_jet[:,0:3]))\n",
    "distances, indices = knn.kneighbors(np.array(torch.unsqueeze(ex_jet[index,0:3],dim=0)))"
   ]
  },
  {
   "cell_type": "code",
   "execution_count": null,
   "id": "e46768b8",
   "metadata": {},
   "outputs": [],
   "source": [
    "distances, indices"
   ]
  },
  {
   "cell_type": "code",
   "execution_count": null,
   "id": "096524b7",
   "metadata": {},
   "outputs": [],
   "source": [
    "from mpl_toolkits.mplot3d import Axes3D\n",
    "\n",
    "fig = plt.figure()\n",
    "ax = fig.add_subplot(111, projection='3d')\n",
    "ax.scatter(ex_jet[:,0], ex_jet[:,1], ex_jet[:,2], c='r', marker='o')\n",
    "plt.title('JET?')\n",
    "plt.show()"
   ]
  }
 ],
 "metadata": {
  "kernelspec": {
   "display_name": "Python 3 (ipykernel)",
   "language": "python",
   "name": "python3"
  },
  "language_info": {
   "codemirror_mode": {
    "name": "ipython",
    "version": 3
   },
   "file_extension": ".py",
   "mimetype": "text/x-python",
   "name": "python",
   "nbconvert_exporter": "python",
   "pygments_lexer": "ipython3",
   "version": "3.10.5"
  }
 },
 "nbformat": 4,
 "nbformat_minor": 5
}
